{
 "cells": [
  {
   "cell_type": "code",
   "execution_count": 36,
   "metadata": {},
   "outputs": [],
   "source": [
    "import torch\n",
    "from torch import nn\n",
    "import numpy as np\n",
    "import matplotlib.pyplot as plt\n",
    "from torch.utils.data import DataLoader"
   ]
  },
  {
   "cell_type": "code",
   "execution_count": 80,
   "metadata": {},
   "outputs": [],
   "source": [
    "def generation_data(s, n):\n",
    "    data = [(s[i:i+n],s[i+n]) for i in range(len(s)-n)]\n",
    "    return [(torch.from_numpy(y[0]),torch.tensor([y[1]])) for y in data]\n",
    "\n",
    "# 生成数据\n",
    "x = np.arange(1000)*0.01\n",
    "y = np.cos(x, dtype=np.float32)\n",
    "train_data = generation_data(y,4)"
   ]
  },
  {
   "cell_type": "code",
   "execution_count": 93,
   "metadata": {},
   "outputs": [],
   "source": [
    "batch_size = 64\n",
    "lr = 0.01\n",
    "epochs = 50\n",
    "\n",
    "net = nn.Sequential(nn.Linear(4,10),nn.ReLU(),nn.Linear(10,1))\n",
    "train_iter = DataLoader(train_data, batch_size=batch_size)\n",
    "loss = nn.MSELoss()\n",
    "updater = torch.optim.SGD(net.parameters(), lr=lr)"
   ]
  },
  {
   "cell_type": "code",
   "execution_count": 94,
   "metadata": {},
   "outputs": [
    {
     "name": "stdout",
     "output_type": "stream",
     "text": [
      "epoch:0, loss:14.21787015175807\n",
      "epoch:1, loss:5.883049043142164\n",
      "epoch:2, loss:0.6754461643454823\n",
      "epoch:3, loss:0.5151128168977107\n",
      "epoch:4, loss:0.49326908769041466\n",
      "epoch:5, loss:0.48181862232608186\n",
      "epoch:6, loss:0.47085582079306754\n",
      "epoch:7, loss:0.4591520428495146\n",
      "epoch:8, loss:0.4467533731689004\n",
      "epoch:9, loss:0.43380907486772013\n",
      "epoch:10, loss:0.42037262556540966\n",
      "epoch:11, loss:0.4069043962832526\n",
      "epoch:12, loss:0.3934110505684423\n",
      "epoch:13, loss:0.38006426734974763\n",
      "epoch:14, loss:0.3669757161318563\n",
      "epoch:15, loss:0.3542146341955281\n",
      "epoch:16, loss:0.34196982368718665\n",
      "epoch:17, loss:0.33005977042028345\n",
      "epoch:18, loss:0.318666291431855\n",
      "epoch:19, loss:0.3078679514343383\n",
      "epoch:20, loss:0.29757384593563607\n",
      "epoch:21, loss:0.2876416714066119\n",
      "epoch:22, loss:0.2792232442015133\n",
      "epoch:23, loss:0.2714743865893788\n",
      "epoch:24, loss:0.26340414433978326\n",
      "epoch:25, loss:0.25580503610527267\n",
      "epoch:26, loss:0.2485961109658515\n",
      "epoch:27, loss:0.24172246807999814\n",
      "epoch:28, loss:0.23532453779880097\n",
      "epoch:29, loss:0.22927313651987624\n",
      "epoch:30, loss:0.2234350693684377\n",
      "epoch:31, loss:0.21771668672840896\n",
      "epoch:32, loss:0.21232969086459313\n",
      "epoch:33, loss:0.20725377624180696\n",
      "epoch:34, loss:0.20235929231062544\n",
      "epoch:35, loss:0.19761271768732236\n",
      "epoch:36, loss:0.19304637402935576\n",
      "epoch:37, loss:0.1886369267471384\n",
      "epoch:38, loss:0.18438708428298156\n",
      "epoch:39, loss:0.18033757848719745\n",
      "epoch:40, loss:0.1766512491902379\n",
      "epoch:41, loss:0.17289585866960078\n",
      "epoch:42, loss:0.16910160376280237\n",
      "epoch:43, loss:0.16564731871951827\n",
      "epoch:44, loss:0.16236578007992986\n",
      "epoch:45, loss:0.15910755305575286\n",
      "epoch:46, loss:0.15592911813286392\n",
      "epoch:47, loss:0.15298625135708743\n",
      "epoch:48, loss:0.1499857683041173\n",
      "epoch:49, loss:0.1471350457251086\n"
     ]
    }
   ],
   "source": [
    "for i in range(epochs):\n",
    "    count_loss = 0\n",
    "    for x,y in train_data:\n",
    "        y_hat = net(x)\n",
    "        l = loss(y_hat, y)\n",
    "        count_loss += l.item()\n",
    "        updater.zero_grad()\n",
    "        l.backward()\n",
    "        updater.step()\n",
    "    print(f'epoch:{i}, loss:{count_loss}')"
   ]
  },
  {
   "cell_type": "code",
   "execution_count": null,
   "metadata": {},
   "outputs": [],
   "source": [
    "def predict_serial(net, data, d):\n",
    "    x = data[-4:]\n",
    "    x = net(x)"
   ]
  },
  {
   "cell_type": "code",
   "execution_count": 95,
   "metadata": {},
   "outputs": [
    {
     "name": "stdout",
     "output_type": "stream",
     "text": [
      "tensor([[-0.8481, -0.8166],\n",
      "        [-0.8443, -0.8108],\n",
      "        [-0.8404, -0.8049],\n",
      "        [-0.8364, -0.7990],\n",
      "        [-0.8324, -0.7929],\n",
      "        [-0.8284, -0.7868],\n",
      "        [-0.8242, -0.7806],\n",
      "        [-0.8201, -0.7743],\n",
      "        [-0.8158, -0.7679],\n",
      "        [-0.8116, -0.7615],\n",
      "        [-0.8072, -0.7549],\n",
      "        [-0.8028, -0.7484],\n",
      "        [-0.7984, -0.7417],\n",
      "        [-0.7939, -0.7349],\n",
      "        [-0.7894, -0.7281],\n",
      "        [-0.7848, -0.7212],\n",
      "        [-0.7801, -0.7143],\n",
      "        [-0.7754, -0.7072],\n",
      "        [-0.7707, -0.7001],\n",
      "        [-0.7659, -0.6930],\n",
      "        [-0.7610, -0.6857],\n",
      "        [-0.7561, -0.6784],\n",
      "        [-0.7512, -0.6710],\n",
      "        [-0.7448, -0.6636],\n",
      "        [-0.7370, -0.6561],\n",
      "        [-0.7291, -0.6485],\n",
      "        [-0.7212, -0.6408],\n",
      "        [-0.7131, -0.6331],\n",
      "        [-0.7050, -0.6253],\n",
      "        [-0.6969, -0.6175],\n",
      "        [-0.6886, -0.6096],\n",
      "        [-0.6803, -0.6017],\n",
      "        [-0.6721, -0.5936],\n",
      "        [-0.6639, -0.5856],\n",
      "        [-0.6556, -0.5774],\n",
      "        [-0.6473, -0.5692],\n",
      "        [-0.6389, -0.5610],\n",
      "        [-0.6304, -0.5527],\n",
      "        [-0.6219, -0.5443],\n",
      "        [-0.6133, -0.5359],\n",
      "        [-0.6046, -0.5274],\n",
      "        [-0.5959, -0.5189],\n",
      "        [-0.5872, -0.5103],\n",
      "        [-0.5783, -0.5017],\n",
      "        [-0.5695, -0.4930],\n",
      "        [-0.5606, -0.4843],\n",
      "        [-0.5516, -0.4755],\n",
      "        [-0.5426, -0.4667],\n",
      "        [-0.5335, -0.4578],\n",
      "        [-0.5243, -0.4489],\n",
      "        [-0.5155, -0.4400],\n",
      "        [-0.5068, -0.4310],\n",
      "        [-0.4980, -0.4219],\n",
      "        [-0.4892, -0.4128],\n",
      "        [-0.4804, -0.4037],\n",
      "        [-0.4715, -0.3945],\n",
      "        [-0.4625, -0.3853],\n",
      "        [-0.4536, -0.3761],\n",
      "        [-0.4446, -0.3668],\n",
      "        [-0.4355, -0.3575],\n",
      "        [-0.4264, -0.3481],\n",
      "        [-0.4173, -0.3387],\n",
      "        [-0.4081, -0.3293],\n",
      "        [-0.3989, -0.3199]], grad_fn=<CatBackward0>)\n"
     ]
    }
   ],
   "source": [
    "test_data = np.cos(np.arange(1000,2000)*0.01, dtype=np.float32)\n",
    "test_set = generation_data(test_data,4)\n",
    "test_iter = DataLoader(test_set, batch_size=batch_size)\n",
    "\n",
    "for x,y in test_iter:\n",
    "    print(torch.concat([net(x), y], dim=1))\n",
    "    break"
   ]
  },
  {
   "cell_type": "code",
   "execution_count": 101,
   "metadata": {},
   "outputs": [],
   "source": [
    "x = torch.tensor(1)\n",
    "x.to_num"
   ]
  },
  {
   "cell_type": "code",
   "execution_count": null,
   "metadata": {},
   "outputs": [],
   "source": []
  }
 ],
 "metadata": {
  "kernelspec": {
   "display_name": "Python 3",
   "language": "python",
   "name": "python3"
  },
  "language_info": {
   "codemirror_mode": {
    "name": "ipython",
    "version": 3
   },
   "file_extension": ".py",
   "mimetype": "text/x-python",
   "name": "python",
   "nbconvert_exporter": "python",
   "pygments_lexer": "ipython3",
   "version": "3.8.8"
  }
 },
 "nbformat": 4,
 "nbformat_minor": 2
}
