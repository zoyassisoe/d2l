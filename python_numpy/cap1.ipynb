{
 "cells": [
  {
   "cell_type": "markdown",
   "metadata": {},
   "source": [
    "# 2.1与2.2"
   ]
  },
  {
   "cell_type": "code",
   "execution_count": 86,
   "metadata": {},
   "outputs": [],
   "source": [
    "import numpy as np"
   ]
  },
  {
   "cell_type": "code",
   "execution_count": 10,
   "metadata": {},
   "outputs": [
    {
     "data": {
      "text/plain": [
       "(array([[0., 1., 2., 3., 4., 5., 6., 7., 8., 9.]], dtype=float32),\n",
       " array([0, 0, 0, 0, 0, 0, 0, 0, 0, 0]),\n",
       " array([[1., 1., 1.],\n",
       "        [1., 1., 1.],\n",
       "        [1., 1., 1.]]),\n",
       " array([[3.14, 3.14, 3.14],\n",
       "        [3.14, 3.14, 3.14],\n",
       "        [3.14, 3.14, 3.14]]))"
      ]
     },
     "execution_count": 10,
     "metadata": {},
     "output_type": "execute_result"
    }
   ],
   "source": [
    "# 创建\n",
    "a = np.array([range(10)], dtype=np.float32)\n",
    "b = np.zeros(10, dtype=np.int32)\n",
    "c = np.ones((3,3))\n",
    "d = np.full((3,3), 3.14)\n",
    "a, b, c, d"
   ]
  },
  {
   "cell_type": "code",
   "execution_count": 18,
   "metadata": {},
   "outputs": [
    {
     "data": {
      "text/plain": [
       "(array([ 0,  2,  4,  6,  8, 10, 12, 14, 16, 18]),\n",
       " array([0.  , 0.25, 0.5 , 0.75, 1.  ]))"
      ]
     },
     "execution_count": 18,
     "metadata": {},
     "output_type": "execute_result"
    }
   ],
   "source": [
    "x1 = np.arange(0, 20, 2)\n",
    "x2 = np.linspace(0, 1, 5)\n",
    "x1, x2"
   ]
  },
  {
   "cell_type": "code",
   "execution_count": 26,
   "metadata": {},
   "outputs": [
    {
     "data": {
      "text/plain": [
       "(array([[0.43536085, 0.47951187, 0.32454604],\n",
       "        [0.86519097, 0.76757801, 0.75507219],\n",
       "        [0.96457655, 0.77802494, 0.20252443]]),\n",
       " array([[-0.50131152, -0.68205965,  0.90156973],\n",
       "        [-1.1066894 ,  0.39974027,  0.10340616],\n",
       "        [-0.76455383,  0.10019615, -1.16247385]]),\n",
       " array([[4, 6, 3, 9, 1],\n",
       "        [5, 9, 6, 7, 7],\n",
       "        [5, 5, 0, 1, 7],\n",
       "        [6, 5, 9, 5, 8],\n",
       "        [6, 3, 4, 5, 4]]))"
      ]
     },
     "execution_count": 26,
     "metadata": {},
     "output_type": "execute_result"
    }
   ],
   "source": [
    "# 0-1均匀分布随机生成\n",
    "q1 = np.random.random((3, 3))\n",
    "# Parameters\n",
    "# ----------\n",
    "# loc : float or array_like of floats\n",
    "#     Mean (\"centre\") of the distribution.\n",
    "# scale : float or array_like of floats\n",
    "#     Standard deviation (spread or \"width\") of the distribution.\n",
    "# size\n",
    "# 正太分布\n",
    "q2 = np.random.normal(0, 1, (3, 3))\n",
    "q3 = np.random.randint(10, size=(5, 5))\n",
    "# 生成单位阵\n",
    "q4 = np.eye(3)\n",
    "q1, q2, q3"
   ]
  },
  {
   "cell_type": "code",
   "execution_count": 52,
   "metadata": {},
   "outputs": [
    {
     "data": {
      "text/plain": [
       "((array([1, 2, 3, 4, 5, 6, 7, 8, 9]),\n",
       "  array([1, 3, 5, 7, 9]),\n",
       "  array([1, 2, 3, 4, 5])),\n",
       " (array([[[ 1,  2,  3,  4],\n",
       "          [ 5,  6,  7,  8]],\n",
       "  \n",
       "         [[ 9, 10, 11, 12],\n",
       "          [13, 14, 15, 16]]]),\n",
       "  6,\n",
       "  array([[[ 1,  3],\n",
       "          [ 5,  7]],\n",
       "  \n",
       "         [[ 9, 11],\n",
       "          [13, 15]]])))"
      ]
     },
     "execution_count": 52,
     "metadata": {},
     "output_type": "execute_result"
    }
   ],
   "source": [
    "# 元素访问\n",
    "# x[start:stop:step]\n",
    "x = np.arange(1, 10, 1)\n",
    "y = np.arange(1, 17, 1).reshape(2, 2, 4)\n",
    "(x, x[::2], x[:5:]), (y, y[0,1,1], y[:,:,::2], )"
   ]
  },
  {
   "cell_type": "code",
   "execution_count": 54,
   "metadata": {},
   "outputs": [
    {
     "data": {
      "text/plain": [
       "(array([10,  2,  3,  4,  5,  6,  7,  8,  9]), array([10,  2]), array([1, 2]))"
      ]
     },
     "execution_count": 54,
     "metadata": {},
     "output_type": "execute_result"
    }
   ],
   "source": [
    "# 注意视图与副本\n",
    "# numpy的数组切片保存的是视图\n",
    "x = np.arange(1, 10, 1)\n",
    "y1 = x[:2]\n",
    "y2 = x[:2].copy()\n",
    "x[0] = 10\n",
    "x, y1, y2"
   ]
  },
  {
   "cell_type": "code",
   "execution_count": 65,
   "metadata": {},
   "outputs": [
    {
     "data": {
      "text/plain": [
       "((1, 2, 2),\n",
       " array([[[1, 2],\n",
       "         [3, 4]]]))"
      ]
     },
     "execution_count": 65,
     "metadata": {},
     "output_type": "execute_result"
    }
   ],
   "source": [
    "# reshape\n",
    "x = np.array([1,2,3,4]).reshape((-1, 2, 2))\n",
    "x.shape, x\n",
    "# np.newaxis???"
   ]
  },
  {
   "cell_type": "code",
   "execution_count": 85,
   "metadata": {},
   "outputs": [
    {
     "data": {
      "text/plain": [
       "(array([[0, 1, 2]]),\n",
       " array([[0, 1, 2]]),\n",
       " array([[0, 1, 2],\n",
       "        [0, 1, 2]]),\n",
       " [array([[0],\n",
       "         [0]]),\n",
       "  array([[1],\n",
       "         [1]]),\n",
       "  array([[2],\n",
       "         [2]])])"
      ]
     },
     "execution_count": 85,
     "metadata": {},
     "output_type": "execute_result"
    }
   ],
   "source": [
    "# 数组拼接与分裂\n",
    "# 向量连接与张量连接有区别\n",
    "x = np.arange(3).reshape(-1, 3)\n",
    "y = np.arange(3).reshape(-1, 3)\n",
    "xy = np.concatenate([x,y], axis=0)\n",
    "x, y, xy, np.split(xy, [1,2], axis=1)"
   ]
  }
 ],
 "metadata": {
  "kernelspec": {
   "display_name": "Python 3",
   "language": "python",
   "name": "python3"
  },
  "language_info": {
   "codemirror_mode": {
    "name": "ipython",
    "version": 3
   },
   "file_extension": ".py",
   "mimetype": "text/x-python",
   "name": "python",
   "nbconvert_exporter": "python",
   "pygments_lexer": "ipython3",
   "version": "3.7.7"
  }
 },
 "nbformat": 4,
 "nbformat_minor": 2
}
