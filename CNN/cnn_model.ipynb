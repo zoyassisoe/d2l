{
 "cells": [
  {
   "cell_type": "code",
   "execution_count": 3,
   "id": "d675e95f",
   "metadata": {},
   "outputs": [],
   "source": [
    "import torch\n",
    "from torch import nn"
   ]
  },
  {
   "cell_type": "code",
   "execution_count": 2,
   "id": "dfa3a3f4",
   "metadata": {},
   "outputs": [
    {
     "data": {
      "text/plain": [
       "True"
      ]
     },
     "execution_count": 2,
     "metadata": {},
     "output_type": "execute_result"
    }
   ],
   "source": [
    "torch.cuda.is_available()"
   ]
  },
  {
   "cell_type": "code",
   "execution_count": 14,
   "id": "206a0704",
   "metadata": {},
   "outputs": [],
   "source": [
    "def corr2d(X, K):\n",
    "    # 位相关运算\n",
    "    h, w = X.shape[-2], X.shape[-1]\n",
    "    kh, kw = K.shape[0], K.shape[1]\n",
    "    Y = torch.zeros(h-kh+1, w-kw+1)\n",
    "    for i in range(Y.shape[0]):\n",
    "        for j in range(Y.shape[1]):\n",
    "            Y[i, j] = (X[i:i+kh, j:j+kh]*K).sum()\n",
    "    \n",
    "    return Y\n",
    "\n",
    "class Conv2D(nn.Module):\n",
    "    def __init__(self, kernel_size) -> None:\n",
    "        super().__init__()\n",
    "        self.weight = nn.Parameter(torch.rand(kernel_size))\n",
    "        self.bias = nn.Parameter(torch.zeros(1))\n",
    "\n",
    "    def forward(self, x):\n",
    "        return corr2d(x, self.weight) + self.bias"
   ]
  },
  {
   "cell_type": "code",
   "execution_count": 15,
   "id": "2f4d9490",
   "metadata": {},
   "outputs": [
    {
     "data": {
      "text/plain": [
       "(tensor([[1., 1., 1., 0., 0., 0.],\n",
       "         [1., 1., 1., 0., 0., 0.],\n",
       "         [1., 1., 1., 0., 0., 0.],\n",
       "         [1., 1., 1., 0., 0., 0.],\n",
       "         [1., 1., 1., 0., 0., 0.],\n",
       "         [1., 1., 1., 0., 0., 0.]]),\n",
       " tensor([[ 0.,  0., -2.,  0.,  0.],\n",
       "         [ 0.,  0., -2.,  0.,  0.],\n",
       "         [ 0.,  0., -2.,  0.,  0.],\n",
       "         [ 0.,  0., -2.,  0.,  0.],\n",
       "         [ 0.,  0., -2.,  0.,  0.]]))"
      ]
     },
     "execution_count": 15,
     "metadata": {},
     "output_type": "execute_result"
    }
   ],
   "source": [
    "# 下面y相当于是边缘检查核，是早期的图像特征提取的方法\n",
    "# 但是注意卷积神经网络的核都是训练出来的\n",
    "x = torch.cat([torch.ones((6, 3)), torch.zeros((6, 3))], axis = 1)\n",
    "k = torch.tensor([[-1,1], [-1,1]])\n",
    "\n",
    "y = corr2d(x, k)\n",
    "x, y"
   ]
  },
  {
   "cell_type": "code",
   "execution_count": 37,
   "id": "b01eb20a",
   "metadata": {},
   "outputs": [
    {
     "name": "stdout",
     "output_type": "stream",
     "text": [
      "epoch:0, loss:116.1138916015625\n",
      "epoch:1, loss:78.9574203491211\n",
      "epoch:2, loss:53.69102478027344\n",
      "epoch:3, loss:36.509891510009766\n",
      "epoch:4, loss:24.82672119140625\n",
      "epoch:5, loss:16.882171630859375\n",
      "epoch:6, loss:11.479884147644043\n",
      "epoch:7, loss:7.806321144104004\n",
      "epoch:8, loss:5.308300495147705\n",
      "epoch:9, loss:3.6096436977386475\n"
     ]
    }
   ],
   "source": [
    "# train 得到上面的k\n",
    "net = Conv2D((2,2))\n",
    "lr = 0.02\n",
    "\n",
    "for i in range(10):\n",
    "    y_hat = net(x)\n",
    "    l = (y-y_hat)**2\n",
    "    net.zero_grad()\n",
    "    l.sum().backward()\n",
    "    net.weight.data[:] -= lr*net.weight.grad\n",
    "\n",
    "    print('epoch:{}, loss:{}'.format(i, l.sum()))"
   ]
  },
  {
   "cell_type": "code",
   "execution_count": 38,
   "id": "c9a95fe9",
   "metadata": {},
   "outputs": [
    {
     "data": {
      "text/plain": [
       "Parameter containing:\n",
       "tensor([[-0.6748,  0.6303],\n",
       "        [-0.7964,  1.1660]], requires_grad=True)"
      ]
     },
     "execution_count": 38,
     "metadata": {},
     "output_type": "execute_result"
    }
   ],
   "source": [
    "net.weight"
   ]
  },
  {
   "cell_type": "code",
   "execution_count": 5,
   "id": "b4f95585",
   "metadata": {},
   "outputs": [
    {
     "data": {
      "text/plain": [
       "torch.Size([1, 1, 3, 3])"
      ]
     },
     "execution_count": 5,
     "metadata": {},
     "output_type": "execute_result"
    }
   ],
   "source": [
    "# 填充与步幅\n",
    "conv2d = nn.Conv2d(1, 1, kernel_size=(3, 3), stride=2, padding=1)\n",
    "x = torch.randn((1 ,1, 5, 5))\n",
    "\n",
    "conv2d(x).shape"
   ]
  },
  {
   "cell_type": "code",
   "execution_count": 12,
   "id": "22d3863e",
   "metadata": {},
   "outputs": [
    {
     "data": {
      "text/plain": [
       "(tensor([[[[ 0.3358,  0.3331,  0.3331,  0.3109],\n",
       "           [ 0.3358,  0.3331,  0.3331,  2.0902],\n",
       "           [ 1.1293,  1.1293,  0.7845,  2.0902],\n",
       "           [ 1.1293,  1.1293,  0.7845, -0.5532]]]]),\n",
       " tensor([[[[-0.2446, -0.2797, -0.5868, -0.8199],\n",
       "           [-0.1363, -0.3465, -0.6522,  0.0318],\n",
       "           [ 0.5937,  0.3223, -0.1649, -0.0622],\n",
       "           [ 0.6217,  0.1743, -0.5181, -1.0981]]]]))"
      ]
     },
     "execution_count": 12,
     "metadata": {},
     "output_type": "execute_result"
    }
   ],
   "source": [
    "# 汇聚层\n",
    "maxpool = nn.MaxPool2d((2,2), stride=1, padding=0)\n",
    "avgpool = nn.AvgPool2d((2,2), stride=1, padding=0)\n",
    "maxpool(x), avgpool(x)"
   ]
  },
  {
   "cell_type": "code",
   "execution_count": 14,
   "metadata": {},
   "outputs": [
    {
     "data": {
      "text/plain": [
       "tensor([[[[0.0000, 0.0000, 0.0000, 0.0000],\n",
       "          [0.0000, 0.0000, 0.0000, 0.0318],\n",
       "          [0.5937, 0.3223, 0.0000, 0.0000],\n",
       "          [0.6217, 0.1743, 0.0000, 0.0000]]]])"
      ]
     },
     "execution_count": 14,
     "metadata": {},
     "output_type": "execute_result"
    }
   ],
   "source": [
    "relu = nn.ReLU()\n",
    "relu(avgpool(x))"
   ]
  },
  {
   "cell_type": "code",
   "execution_count": 11,
   "id": "9e477744",
   "metadata": {},
   "outputs": [],
   "source": [
    "import torchvision\n",
    "from torchvision import transforms\n",
    "\n",
    "# 定义net来train FashionMNIST\n",
    "mnist_train = torchvision.datasets.FashionMNIST(\n",
    "    root='../data', train=True, transform=transforms.ToTensor(), download=True\n",
    ")\n",
    "mnist_test = torchvision.datasets.FashionMNIST(\n",
    "    root='../data', train=False, transform=transforms.ToTensor(), download=True\n",
    ")"
   ]
  },
  {
   "cell_type": "code",
   "execution_count": 29,
   "id": "00647817",
   "metadata": {},
   "outputs": [
    {
     "data": {
      "text/plain": [
       "tensor(9)"
      ]
     },
     "execution_count": 29,
     "metadata": {},
     "output_type": "execute_result"
    }
   ],
   "source": [
    "mnist_train.data.shape, mnist_train.targets.shape\n",
    "max(mnist_train.targets)"
   ]
  },
  {
   "cell_type": "code",
   "execution_count": 138,
   "id": "3cfd29e2",
   "metadata": {},
   "outputs": [],
   "source": [
    "class CnnNet(nn.Module):\n",
    "    def __init__(self, input_channels=1) -> None:\n",
    "        super().__init__()\n",
    "        self.is_training = True\n",
    "        self.drop_layer = nn.Dropout(0.5)\n",
    "        self.conn2d1 = nn.Sequential(\n",
    "            nn.Conv2d(1, 16, kernel_size=(3,3), stride=1, padding=1),\n",
    "            nn.MaxPool2d(kernel_size=(2,2), stride=2),\n",
    "            nn.BatchNorm2d(16),\n",
    "            nn.ReLU()\n",
    "        )\n",
    "        self.conn2d2 = nn.Sequential(\n",
    "            nn.Conv2d(16, 32, kernel_size=(5,5), stride=1, padding=1),\n",
    "            nn.MaxPool2d(kernel_size=(2,2), stride=2),\n",
    "            nn.BatchNorm2d(32),\n",
    "            nn.ReLU()\n",
    "        )\n",
    "        self.conn2d3 = nn.Sequential(\n",
    "            nn.Conv2d(32, 64, kernel_size=(5,5), stride=1, padding=1),\n",
    "            nn.MaxPool2d(kernel_size=(2,2), stride=2),\n",
    "            nn.BatchNorm2d(64),\n",
    "            nn.ReLU()\n",
    "        )\n",
    "        self.conn2d4 = nn.Sequential(\n",
    "            nn.Conv2d(64, 128, kernel_size=(2,2), stride=1, padding=1),\n",
    "            # nn.MaxPool2d(kernel_size=(2,2), stride=2),\n",
    "            nn.BatchNorm2d(128),\n",
    "            nn.ReLU()\n",
    "        )\n",
    "        # self.conv1 = nn.Conv2d(1, 6, kernel_size=(3,3), stride=1, padding=1)\n",
    "        # self.maxpool = nn.MaxPool2d(kernel_size=(2,2), stride=2)\n",
    "        # self.conv2 = nn.Conv2d(6, 16, kernel_size=(3,3), stride=1, padding=1)\n",
    "        self.flatten = nn.Flatten()\n",
    "        self.relu = nn.ReLU()\n",
    "        # self.line1 = nn.Sequential(\n",
    "        #     nn.Linear(784, 120),\n",
    "        #     nn.ReLU(),\n",
    "        #     nn.Linear(120, 84),\n",
    "        #     nn.ReLU(),\n",
    "        #     nn.Linear(84, 10)\n",
    "        # )\n",
    "        self.line1 = nn.Linear(1152, 256)\n",
    "        self.line2 = nn.Linear(256, 10)\n",
    "        # self.line1 = nn.Linear(1152, 240)\n",
    "        # self.line2 = nn.Linear(240, 84)\n",
    "        # self.line3 = nn.Linear(84, 10)\n",
    "\n",
    "    \n",
    "    def forward(self, x):\n",
    "        # c1 = self.conv1(x)\n",
    "        # c1 = self.relu(self.maxpool(c1))\n",
    "        # c2 = self.conv2(c1)\n",
    "        # c2 = self.relu(self.maxpool(c2))\n",
    "        c1 = self.conn2d1(x)\n",
    "        c2 = self.conn2d2(c1)\n",
    "        c3 = self.conn2d3(c2)\n",
    "        c4 = self.conn2d4(c3)\n",
    "        o1 = self.flatten(c4)\n",
    "        # return o1\n",
    "        # l = self.line(o1)\n",
    "        l1 = self.relu(self.line1(o1))\n",
    "        if self.is_training:\n",
    "            l1 = self.drop_layer(l1)\n",
    "        \n",
    "        # l2 = self.relu(self.line2(l1))\n",
    "        # if self.is_training:\n",
    "        #     l2 = self.drop_layer(l2)\n",
    "        # l3 = self.line3(l2)\n",
    "        o = self.line2(l1)\n",
    "        return o\n",
    "\n",
    "    def predict(self, x):\n",
    "        self.is_training = False\n",
    "        o = self.forward(x)\n",
    "        self.is_training = True\n",
    "        return o"
   ]
  },
  {
   "cell_type": "code",
   "execution_count": 15,
   "id": "a1d1e892",
   "metadata": {},
   "outputs": [],
   "source": [
    "# alexNet\n",
    "class CnnNet(nn.Module):\n",
    "    def __init__(self) -> None:\n",
    "        super().__init__()\n",
    "        self.is_training = True\n",
    "        self.drop_layer = nn.Dropout(0.5)\n",
    "        self.conn2d1 = nn.Sequential(\n",
    "            nn.Conv2d(1, 96, kernel_size=(3,3), stride=1, padding=1),\n",
    "            nn.MaxPool2d(kernel_size=(2,2), stride=2),\n",
    "            nn.BatchNorm2d(96),\n",
    "            nn.ReLU()\n",
    "        )\n",
    "        self.conn2d2 = nn.Sequential(\n",
    "            nn.Conv2d(96, 256, kernel_size=(5,5), stride=1, padding=1),\n",
    "            nn.MaxPool2d(kernel_size=(2,2), stride=2),\n",
    "            nn.BatchNorm2d(256),\n",
    "            nn.ReLU()\n",
    "        )\n",
    "        self.conn2d3 = nn.Sequential(\n",
    "            nn.Conv2d(256, 1024, kernel_size=(5,5), stride=1, padding=1),\n",
    "            nn.MaxPool2d(kernel_size=(2,2), stride=2),\n",
    "            nn.BatchNorm2d(1024),\n",
    "            nn.ReLU()\n",
    "        )\n",
    "        self.conn2d4 = nn.Sequential(\n",
    "            nn.Conv2d(1024, 1024, kernel_size=(2,2), stride=1, padding=1),\n",
    "            nn.BatchNorm2d(1024),\n",
    "            nn.ReLU()\n",
    "        )\n",
    "        self.flatten = nn.Flatten()\n",
    "        self.relu = nn.ReLU()\n",
    "        self.line1 = nn.Linear(9216, 4080)\n",
    "        self.line2 = nn.Linear(4080, 10)\n",
    "\n",
    "\n",
    "    \n",
    "    def forward(self, x):\n",
    "        c1 = self.conn2d1(x)\n",
    "        c2 = self.conn2d2(c1)\n",
    "        c3 = self.conn2d3(c2)\n",
    "        c4 = self.conn2d4(c3)\n",
    "        o1 = self.flatten(c4)\n",
    "        # return o1\n",
    "        l1 = self.relu(self.line1(o1))\n",
    "        if self.is_training:\n",
    "            l1 = self.drop_layer(l1)\n",
    "        o = self.line2(l1)\n",
    "        return o\n",
    "\n",
    "    def predict(self, x):\n",
    "        self.is_training = False\n",
    "        o = self.forward(x)\n",
    "        self.is_training = True\n",
    "        return o"
   ]
  },
  {
   "cell_type": "code",
   "execution_count": 16,
   "id": "7a513b2e",
   "metadata": {},
   "outputs": [
    {
     "data": {
      "text/plain": [
       "==========================================================================================\n",
       "Layer (type:depth-idx)                   Output Shape              Param #\n",
       "==========================================================================================\n",
       "CnnNet                                   [1, 10]                   --\n",
       "├─Sequential: 1-1                        [1, 96, 14, 14]           --\n",
       "│    └─Conv2d: 2-1                       [1, 96, 28, 28]           960\n",
       "│    └─MaxPool2d: 2-2                    [1, 96, 14, 14]           --\n",
       "│    └─BatchNorm2d: 2-3                  [1, 96, 14, 14]           192\n",
       "│    └─ReLU: 2-4                         [1, 96, 14, 14]           --\n",
       "├─Sequential: 1-2                        [1, 256, 6, 6]            --\n",
       "│    └─Conv2d: 2-5                       [1, 256, 12, 12]          614,656\n",
       "│    └─MaxPool2d: 2-6                    [1, 256, 6, 6]            --\n",
       "│    └─BatchNorm2d: 2-7                  [1, 256, 6, 6]            512\n",
       "│    └─ReLU: 2-8                         [1, 256, 6, 6]            --\n",
       "├─Sequential: 1-3                        [1, 1024, 2, 2]           --\n",
       "│    └─Conv2d: 2-9                       [1, 1024, 4, 4]           6,554,624\n",
       "│    └─MaxPool2d: 2-10                   [1, 1024, 2, 2]           --\n",
       "│    └─BatchNorm2d: 2-11                 [1, 1024, 2, 2]           2,048\n",
       "│    └─ReLU: 2-12                        [1, 1024, 2, 2]           --\n",
       "├─Sequential: 1-4                        [1, 1024, 3, 3]           --\n",
       "│    └─Conv2d: 2-13                      [1, 1024, 3, 3]           4,195,328\n",
       "│    └─BatchNorm2d: 2-14                 [1, 1024, 3, 3]           2,048\n",
       "│    └─ReLU: 2-15                        [1, 1024, 3, 3]           --\n",
       "├─Flatten: 1-5                           [1, 9216]                 --\n",
       "├─Linear: 1-6                            [1, 4080]                 37,605,360\n",
       "├─ReLU: 1-7                              [1, 4080]                 --\n",
       "├─Dropout: 1-8                           [1, 4080]                 --\n",
       "├─Linear: 1-9                            [1, 10]                   40,810\n",
       "==========================================================================================\n",
       "Total params: 49,016,538\n",
       "Trainable params: 49,016,538\n",
       "Non-trainable params: 0\n",
       "Total mult-adds (M): 269.55\n",
       "==========================================================================================\n",
       "Input size (MB): 0.00\n",
       "Forward/backward pass size (MB): 1.47\n",
       "Params size (MB): 196.07\n",
       "Estimated Total Size (MB): 197.53\n",
       "=========================================================================================="
      ]
     },
     "execution_count": 16,
     "metadata": {},
     "output_type": "execute_result"
    }
   ],
   "source": [
    "from torchinfo import summary\n",
    "\n",
    "net = CnnNet()\n",
    "summary(net, input_size=(1,1,28,28))"
   ]
  },
  {
   "cell_type": "code",
   "execution_count": 17,
   "id": "246337a7",
   "metadata": {},
   "outputs": [],
   "source": [
    "from torch.utils import data\n",
    "\n",
    "def ac(data_iter, net, device):\n",
    "    num_acs = []\n",
    "    for x, y in data_iter:\n",
    "        x = x.to(device)\n",
    "        y = y.to(device)\n",
    "        y_hat = net.predict(x)\n",
    "        maxs, indexs = torch.max(y_hat, dim=1)\n",
    "        num_acs.append(y.eq(indexs).sum()/indexs.shape[0])\n",
    "    return sum(num_acs)/len(num_acs)\n",
    "\n",
    "batch_size = 1024\n",
    "num_epochs = 10\n",
    "lr = 0.1\n",
    "\n",
    "train_iter = data.DataLoader(mnist_train, batch_size, shuffle=True, num_workers=4, pin_memory=True)\n",
    "test_iter = data.DataLoader(mnist_test, batch_size,shuffle=True, num_workers=4)\n",
    "\n",
    "net = CnnNet()\n",
    "device = torch.device('cuda' if torch.cuda.is_available() else 'cpu')\n",
    "net.to(device)\n",
    "loss = nn.CrossEntropyLoss()\n",
    "trainer = torch.optim.SGD(net.parameters(), lr=lr)"
   ]
  },
  {
   "cell_type": "code",
   "execution_count": 18,
   "id": "d68972e4",
   "metadata": {},
   "outputs": [
    {
     "name": "stdout",
     "output_type": "stream",
     "text": [
      "tensor(0.3604, device='cuda:0', grad_fn=<NllLossBackward0>)\n",
      "tensor(0.8501, device='cuda:0')\n",
      "tensor(0.3665, device='cuda:0', grad_fn=<NllLossBackward0>)\n",
      "tensor(0.8668, device='cuda:0')\n",
      "tensor(0.2419, device='cuda:0', grad_fn=<NllLossBackward0>)\n",
      "tensor(0.8850, device='cuda:0')\n",
      "tensor(0.1940, device='cuda:0', grad_fn=<NllLossBackward0>)\n",
      "tensor(0.8838, device='cuda:0')\n",
      "tensor(0.1536, device='cuda:0', grad_fn=<NllLossBackward0>)\n",
      "tensor(0.9118, device='cuda:0')\n",
      "tensor(0.1558, device='cuda:0', grad_fn=<NllLossBackward0>)\n",
      "tensor(0.9051, device='cuda:0')\n",
      "tensor(0.1687, device='cuda:0', grad_fn=<NllLossBackward0>)\n",
      "tensor(0.8950, device='cuda:0')\n",
      "tensor(0.1154, device='cuda:0', grad_fn=<NllLossBackward0>)\n",
      "tensor(0.9192, device='cuda:0')\n",
      "tensor(0.1137, device='cuda:0', grad_fn=<NllLossBackward0>)\n",
      "tensor(0.9167, device='cuda:0')\n",
      "tensor(0.0946, device='cuda:0', grad_fn=<NllLossBackward0>)\n",
      "tensor(0.9094, device='cuda:0')\n"
     ]
    }
   ],
   "source": [
    "for i in range(num_epochs):\n",
    "    for x,y in train_iter:\n",
    "        x = x.to(device)\n",
    "        y = y.to(device)\n",
    "        y_hat = net(x)\n",
    "        l = loss(y_hat, y)\n",
    "        trainer.zero_grad()\n",
    "        l.backward()\n",
    "        trainer.step()\n",
    "    print(l)\n",
    "    print(ac(test_iter, net, device))"
   ]
  },
  {
   "cell_type": "code",
   "execution_count": 142,
   "id": "b8c2c92a",
   "metadata": {},
   "outputs": [
    {
     "name": "stderr",
     "output_type": "stream",
     "text": [
      "C:\\Users\\cheng\\AppData\\Local\\Temp\\ipykernel_10468\\3493962570.py:1: UserWarning: To copy construct from a tensor, it is recommended to use sourceTensor.clone().detach() or sourceTensor.clone().detach().requires_grad_(True), rather than torch.tensor(sourceTensor).\n",
      "  o = torch.tensor(mnist_test.data[1,:,:].reshape(1,1,28,28).cuda(), dtype=torch.float32)\n"
     ]
    },
    {
     "data": {
      "text/plain": [
       "(tensor([[2.7844e-06, 1.1906e-07, 9.9640e-01, 5.5539e-06, 2.1888e-03, 7.1823e-06,\n",
       "          1.3271e-03, 7.3079e-06, 5.9558e-05, 1.0692e-06]], device='cuda:0',\n",
       "        grad_fn=<SoftmaxBackward0>),\n",
       " tensor(2))"
      ]
     },
     "execution_count": 142,
     "metadata": {},
     "output_type": "execute_result"
    }
   ],
   "source": [
    "o = torch.tensor(mnist_test.data[1,:,:].reshape(1,1,28,28).cuda(), dtype=torch.float32)\n",
    "torch.softmax(net(o), dim=1), mnist_test.targets[1]"
   ]
  },
  {
   "cell_type": "code",
   "execution_count": 149,
   "id": "a653e338",
   "metadata": {},
   "outputs": [
    {
     "data": {
      "text/plain": [
       "<matplotlib.image.AxesImage at 0x1708c1cc460>"
      ]
     },
     "execution_count": 149,
     "metadata": {},
     "output_type": "execute_result"
    },
    {
     "data": {
      "image/png": "[encoded data removed]",
      "text/plain": [
       "<Figure size 640x480 with 1 Axes>"
      ]
     },
     "metadata": {},
     "output_type": "display_data"
    }
   ],
   "source": [
    "import matplotlib.pyplot as plt\n",
    "\n",
    "plt.imshow(o.reshape(28,28).cpu().numpy())"
   ]
  },
  {
   "cell_type": "code",
   "execution_count": null,
   "id": "7059998a",
   "metadata": {},
   "outputs": [],
   "source": []
  }
 ],
 "metadata": {
  "kernelspec": {
   "display_name": "Python 3 (ipykernel)",
   "language": "python",
   "name": "python3"
  },
  "language_info": {
   "codemirror_mode": {
    "name": "ipython",
    "version": 3
   },
   "file_extension": ".py",
   "mimetype": "text/x-python",
   "name": "python",
   "nbconvert_exporter": "python",
   "pygments_lexer": "ipython3",
   "version": "3.8.8"
  }
 },
 "nbformat": 4,
 "nbformat_minor": 5
}
