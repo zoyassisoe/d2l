{
 "cells": [
  {
   "cell_type": "code",
   "execution_count": 1,
   "metadata": {},
   "outputs": [],
   "source": [
    "import torch\n",
    "from torch import nn\n",
    "\n",
    "\n",
    "def vgg_block(num_convs, in_channels, out_channels):\n",
    "    layers = []\n",
    "    for _ in range(num_convs):\n",
    "        layers.append(nn.Conv2d(in_channels, out_channels, (3,3), padding=1))\n",
    "        layers.append(nn.ReLU())\n",
    "        in_channels = out_channels\n",
    "\n",
    "    layers.append(nn.MaxPool2d(kernel_size=2, stride=2))\n",
    "    return nn.Sequential(*layers)\n",
    "\n",
    "def vgg(conv_arch):\n",
    "    conv_blks = []\n",
    "    in_chanells = 1\n",
    "    for (num_convs, out_channels) in conv_arch:\n",
    "        conv_blks.append(vgg_block(num_convs, in_chanells, out_channels))\n",
    "        in_chanells = out_channels\n",
    "    \n",
    "    return nn.Sequential(\n",
    "        *conv_blks,\n",
    "        nn.Flatten(),\n",
    "        nn.Linear(out_channels*7*7, 4096), nn.ReLU(), nn.Dropout(0.5),\n",
    "        nn.Linear(4096, 4096), nn.ReLU(), nn.Dropout(0.5),\n",
    "        nn.Linear(4096, 10)\n",
    "    )\n",
    "\n",
    "conv_arch = ((1, 64), (1, 128), (2, 256), (2, 512), (2, 512))"
   ]
  },
  {
   "cell_type": "code",
   "execution_count": 12,
   "metadata": {},
   "outputs": [],
   "source": [
    "import torchvision\n",
    "from torchvision import transforms\n",
    "import pandas as pd\n",
    "import os\n",
    "from PIL import Image\n",
    "from torch.utils import data\n",
    "from sklearn.utils import shuffle"
   ]
  },
  {
   "cell_type": "code",
   "execution_count": 13,
   "metadata": {},
   "outputs": [],
   "source": [
    "def load_train_csv():\n",
    "    df = pd.read_csv('../data/classify-leaves/train.csv')\n",
    "    list_type = df['label'].unique()\n",
    "    dic = {}\n",
    "    for i,t in enumerate(list_type):\n",
    "        dic[t] = i\n",
    "    df['num_label'] = df['label'].map(dic)\n",
    "    return shuffle(df)\n",
    "\n",
    "class Dataset(object):\n",
    "    def __init__(self, data_frame, root_dir, transform=None) -> None:\n",
    "        self.data_frame = data_frame\n",
    "        self.root_dir = root_dir\n",
    "        self.transform = transform\n",
    "\n",
    "    def __len__(self):\n",
    "        return len(self.data_frame)\n",
    "    \n",
    "    def __getitem__(self, idx):\n",
    "        imgpath = os.path.join(self.root_dir, self.data_frame.iloc[idx,0])\n",
    "        label = self.data_frame.iloc[idx,2]\n",
    "        img = Image.open(imgpath).convert('RGB')\n",
    "        if self.transform:\n",
    "            img = self.transform(img)\n",
    "\n",
    "        return img, label\n",
    "\n",
    "def ac(data_iter, net, device):\n",
    "    num_acs = []\n",
    "    for x, y in data_iter:\n",
    "        x = x.to(device)\n",
    "        y = y.to(device)\n",
    "        y_hat = net.predict(x)\n",
    "        maxs, indexs = torch.max(y_hat, dim=1)\n",
    "        num_acs.append(y.eq(indexs).sum()/indexs.shape[0])\n",
    "    return sum(num_acs)/len(num_acs)\n",
    "\n",
    "data_csv = load_train_csv()\n",
    "train_csv = data_csv.iloc[:15000,:]\n",
    "test_csv = data_csv.iloc[15000:,:]\n",
    "trans = transforms.Compose([transforms.ToTensor()])\n",
    "train_dataset = Dataset(train_csv, '../data/classify-leaves', trans)\n",
    "test_dataset = Dataset(test_csv, '../data/classify-leaves', trans)"
   ]
  },
  {
   "cell_type": "code",
   "execution_count": 14,
   "metadata": {},
   "outputs": [],
   "source": [
    "batch_size = 24\n",
    "num_epochs = 10\n",
    "lr = 0.1\n",
    "train_iter = data.DataLoader(train_dataset, batch_size=batch_size, num_workers=4, pin_memory=True)\n",
    "test_iter = data.DataLoader(test_csv, batch_size=batch_size, num_workers=4, pin_memory=True)\n",
    "\n",
    "net = vgg(conv_arch)\n",
    "device = torch.device('cuda' if torch.cuda.is_available() else 'cpu')\n",
    "net.to(device)\n",
    "loss = nn.CrossEntropyLoss()\n",
    "trainer = torch.optim.SGD(net.parameters(), lr=lr)"
   ]
  },
  {
   "cell_type": "code",
   "execution_count": 15,
   "metadata": {},
   "outputs": [],
   "source": [
    "for i in range(num_epochs):\n",
    "    for x,y in train_iter:\n",
    "        x = x.to(device)\n",
    "        y = y.to(device)\n",
    "        y_hat = net(x)\n",
    "        l = loss(y_hat, y)\n",
    "        trainer.zero_grad()\n",
    "        l.backward()\n",
    "        trainer.step()\n",
    "    print(l)\n",
    "    print(ac(test_iter, net, device))"
   ]
  },
  {
   "cell_type": "code",
   "execution_count": 9,
   "metadata": {},
   "outputs": [],
   "source": [
    "import torch\n",
    "from torch import nn\n",
    "\n",
    "\n",
    "\n",
    "class Net(nn.Module):\n",
    "    def __init__(self) -> None:\n",
    "        super().__init__()\n",
    "\n",
    "        self.layer2 = nn.Sequential(\n",
    "            nn.Conv2d(3,60,3,1,1),\n",
    "            nn.ReLU(),\n",
    "            nn.MaxPool2d(2,2)\n",
    "            nn.Conv2d(60,512,5,1,0),\n",
    "            nn.ReLU(),\n",
    "            nn.MaxPool2d(2,2),\n",
    "            nn.Conv2d(512,1024,5,1,0),\n",
    "            nn.ReLU(),\n",
    "            nn.MaxPool2d(2,2),\n",
    "            nn.Flatten(),\n",
    "            nn.Linear(1024, 176)\n",
    "        )\n",
    "    def forward(self, x):\n",
    "        h1 = self.layer1(x)\n",
    "        h2 = self.layer2(h1)\n",
    "        return h2\n",
    "\n",
    "net = Net()"
   ]
  },
  {
   "cell_type": "code",
   "execution_count": 10,
   "metadata": {},
   "outputs": [
    {
     "data": {
      "text/plain": [
       "==========================================================================================\n",
       "Layer (type:depth-idx)                   Output Shape              Param #\n",
       "==========================================================================================\n",
       "Net                                      [1, 1024, 1, 1]           180,400\n",
       "├─Sequential: 1-1                        [1, 60, 16, 16]           --\n",
       "│    └─Conv2d: 2-1                       [1, 60, 32, 32]           1,680\n",
       "│    └─ReLU: 2-2                         [1, 60, 32, 32]           --\n",
       "│    └─MaxPool2d: 2-3                    [1, 60, 16, 16]           --\n",
       "├─Sequential: 1-2                        [1, 1024, 1, 1]           --\n",
       "│    └─Conv2d: 2-4                       [1, 512, 12, 12]          768,512\n",
       "│    └─ReLU: 2-5                         [1, 512, 12, 12]          --\n",
       "│    └─MaxPool2d: 2-6                    [1, 512, 6, 6]            --\n",
       "│    └─Conv2d: 2-7                       [1, 1024, 2, 2]           13,108,224\n",
       "│    └─ReLU: 2-8                         [1, 1024, 2, 2]           --\n",
       "│    └─MaxPool2d: 2-9                    [1, 1024, 1, 1]           --\n",
       "==========================================================================================\n",
       "Total params: 14,058,816\n",
       "Trainable params: 14,058,816\n",
       "Non-trainable params: 0\n",
       "Total mult-adds (M): 164.82\n",
       "==========================================================================================\n",
       "Input size (MB): 0.01\n",
       "Forward/backward pass size (MB): 1.11\n",
       "Params size (MB): 55.51\n",
       "Estimated Total Size (MB): 56.64\n",
       "=========================================================================================="
      ]
     },
     "execution_count": 10,
     "metadata": {},
     "output_type": "execute_result"
    }
   ],
   "source": [
    "from torchinfo import summary\n",
    "\n",
    "summary(net, (1,3,32,32))"
   ]
  },
  {
   "cell_type": "code",
   "execution_count": null,
   "metadata": {},
   "outputs": [],
   "source": []
  }
 ],
 "metadata": {
  "kernelspec": {
   "display_name": "Python 3",
   "language": "python",
   "name": "python3"
  },
  "language_info": {
   "codemirror_mode": {
    "name": "ipython",
    "version": 3
   },
   "file_extension": ".py",
   "mimetype": "text/x-python",
   "name": "python",
   "nbconvert_exporter": "python",
   "pygments_lexer": "ipython3",
   "version": "3.8.8"
  }
 },
 "nbformat": 4,
 "nbformat_minor": 2
}
