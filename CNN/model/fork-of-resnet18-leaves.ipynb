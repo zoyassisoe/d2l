{
 "cells": [
  {
   "cell_type": "code",
   "execution_count": 1,
   "id": "2c15342a",
   "metadata": {
    "execution": {
     "iopub.execute_input": "2023-11-21T11:52:38.643523Z",
     "iopub.status.busy": "2023-11-21T11:52:38.643137Z",
     "iopub.status.idle": "2023-11-21T11:52:42.315518Z",
     "shell.execute_reply": "2023-11-21T11:52:42.314740Z"
    },
    "papermill": {
     "duration": 3.680621,
     "end_time": "2023-11-21T11:52:42.317894",
     "exception": false,
     "start_time": "2023-11-21T11:52:38.637273",
     "status": "completed"
    },
    "tags": []
   },
   "outputs": [],
   "source": [
    "import torchvision\n",
    "from torchvision import transforms\n",
    "import torch\n",
    "from torch.utils.data import DataLoader\n",
    "\n",
    "global maps"
   ]
  },
  {
   "cell_type": "code",
   "execution_count": 2,
   "id": "73bc5606",
   "metadata": {
    "execution": {
     "iopub.execute_input": "2023-11-21T11:52:42.327678Z",
     "iopub.status.busy": "2023-11-21T11:52:42.327287Z",
     "iopub.status.idle": "2023-11-21T11:52:43.812469Z",
     "shell.execute_reply": "2023-11-21T11:52:43.811684Z"
    },
    "papermill": {
     "duration": 1.492301,
     "end_time": "2023-11-21T11:52:43.814790",
     "exception": false,
     "start_time": "2023-11-21T11:52:42.322489",
     "status": "completed"
    },
    "tags": []
   },
   "outputs": [
    {
     "name": "stderr",
     "output_type": "stream",
     "text": [
      "/opt/conda/lib/python3.10/site-packages/scipy/__init__.py:146: UserWarning: A NumPy version >=1.16.5 and <1.23.0 is required for this version of SciPy (detected version 1.24.3\n",
      "  warnings.warn(f\"A NumPy version >={np_minversion} and <{np_maxversion}\"\n"
     ]
    }
   ],
   "source": [
    "import pandas as pd\n",
    "# import numpy as np\n",
    "import os\n",
    "from sklearn.utils import shuffle\n",
    "from PIL import Image\n",
    "\n",
    "\n",
    "data_root_dir = '/kaggle/input/classify-leaves'\n",
    "data_csv_path = os.path.join(data_root_dir, './train.csv')\n",
    "\n",
    "class Dataset(object):\n",
    "    def __init__(self, data_frame, root_dir, transform=None) -> None:\n",
    "        self.data_frame = data_frame\n",
    "        self.root_dir = root_dir\n",
    "        self.transform = transform\n",
    "\n",
    "    def __len__(self):\n",
    "        return len(self.data_frame)\n",
    "    \n",
    "    def __getitem__(self, idx):\n",
    "        imgpath = os.path.join(self.root_dir, self.data_frame.iloc[idx,0])\n",
    "        label = self.data_frame.iloc[idx,2]\n",
    "        img = Image.open(imgpath).convert('RGB')\n",
    "        if self.transform:\n",
    "            img = self.transform(img)\n",
    "\n",
    "        return img, label\n",
    "\n",
    "\n",
    "def load_csv(path):\n",
    "    df = pd.read_csv(path)\n",
    "    list_type = df['label'].unique()\n",
    "    dic = {}\n",
    "    for i,t in enumerate(list_type):\n",
    "        dic[t] = i\n",
    "    global maps    \n",
    "    maps = dic\n",
    "    df['num_label'] = df['label'].map(dic)\n",
    "    return shuffle(df)\n",
    "\n",
    "def load_data(transform):\n",
    "    data_df = load_csv(data_csv_path)\n",
    "    train_dataset = Dataset(data_df.iloc[:14000], data_root_dir, transform)\n",
    "    test_dataset = Dataset(data_df.iloc[14000:], data_root_dir, transform)\n",
    "\n",
    "    return train_dataset, test_dataset"
   ]
  },
  {
   "cell_type": "code",
   "execution_count": 3,
   "id": "381d7390",
   "metadata": {
    "execution": {
     "iopub.execute_input": "2023-11-21T11:52:43.824825Z",
     "iopub.status.busy": "2023-11-21T11:52:43.824395Z",
     "iopub.status.idle": "2023-11-21T11:52:43.947502Z",
     "shell.execute_reply": "2023-11-21T11:52:43.946707Z"
    },
    "papermill": {
     "duration": 0.13029,
     "end_time": "2023-11-21T11:52:43.949499",
     "exception": false,
     "start_time": "2023-11-21T11:52:43.819209",
     "status": "completed"
    },
    "tags": []
   },
   "outputs": [],
   "source": [
    "from torch import nn\n",
    "from torch.nn import functional as F\n",
    "\n",
    "\n",
    "class Residual(nn.Module):\n",
    "    def __init__(self, in_channels, out_channels, use_1x1conv=False, stride=1) -> None:\n",
    "        super().__init__()\n",
    "        # conv2不会改变高宽,resnet的设计是当conv1的stride不等于1的时候会改变高宽，那么相应的会使用1x1conv去改变输入的高宽\n",
    "        # conv1 k=3 s=2 p=1与conv3 k=1 s=2 p=0 的输出高宽相同(2p-k)是相同的\n",
    "        # 在in_channels与out_channels不同的时候就会使用1x1conv\n",
    "        self.conv1 = nn.Conv2d(in_channels, out_channels, kernel_size=3, padding=1, stride=stride)\n",
    "        self.conv2 = nn.Conv2d(out_channels, out_channels, kernel_size=3, padding=1)\n",
    "        if use_1x1conv:\n",
    "            self.conv3 = nn.Conv2d(in_channels, out_channels, kernel_size=1, stride=stride)\n",
    "        else:\n",
    "            self.conv3 = None\n",
    "\n",
    "        self.bn1 = nn.BatchNorm2d(out_channels)\n",
    "        self.bn2 = nn.BatchNorm2d(out_channels)\n",
    "    def forward(self ,x):\n",
    "        y = F.relu(self.bn1(self.conv1(x)))\n",
    "        y = self.bn2(self.conv2(y))\n",
    "        if self.conv3:\n",
    "            x = self.conv3(x)\n",
    "        \n",
    "        # 注意这里是直接相加，而不是叠加通道\n",
    "        y += x\n",
    "        return F.relu(y)\n",
    "\n",
    "def resnet_block(in_channels, out_channels, num_residuals, first_block=False):\n",
    "    blk = []\n",
    "    for i in range(num_residuals):\n",
    "        if i==0 and not first_block:\n",
    "            # first_block的in_channels = out_channels\n",
    "            blk.append(Residual(in_channels, out_channels, use_1x1conv=True, stride=2))\n",
    "        else:\n",
    "            blk.append(Residual(out_channels, out_channels))\n",
    "    return blk\n",
    "\n",
    "\n",
    "class ResNet18(nn.Module):\n",
    "    def __init__(self, in_channels, dims=10) -> None:\n",
    "        super().__init__()\n",
    "        b1 = nn.Sequential(\n",
    "            nn.Conv2d(in_channels, 64, kernel_size=7, stride=2, padding=3),\n",
    "            nn.BatchNorm2d(64), nn.ReLU(),\n",
    "            nn.MaxPool2d(kernel_size=3, stride=2,padding=1)\n",
    "        )\n",
    "        b2 = nn.Sequential(*resnet_block(64, 64, 2, first_block=True))\n",
    "        b3 = nn.Sequential(*resnet_block(64, 128, 2))\n",
    "        b4 = nn.Sequential(*resnet_block(128, 256, 2))\n",
    "        b5 = nn.Sequential(*resnet_block(256, 512, 2))\n",
    "        self.net = nn.Sequential(\n",
    "            b1, b2, b3, b4, b5,\n",
    "            nn.AdaptiveAvgPool2d((1,1)),\n",
    "            nn.Flatten(),\n",
    "            nn.Linear(512, dims)\n",
    "        )\n",
    "    \n",
    "    def forward(self, x):\n",
    "        return self.net(x)"
   ]
  },
  {
   "cell_type": "code",
   "execution_count": 4,
   "id": "b80accd3",
   "metadata": {
    "execution": {
     "iopub.execute_input": "2023-11-21T11:52:43.958818Z",
     "iopub.status.busy": "2023-11-21T11:52:43.958545Z",
     "iopub.status.idle": "2023-11-21T11:52:43.963878Z",
     "shell.execute_reply": "2023-11-21T11:52:43.963148Z"
    },
    "papermill": {
     "duration": 0.01199,
     "end_time": "2023-11-21T11:52:43.965762",
     "exception": false,
     "start_time": "2023-11-21T11:52:43.953772",
     "status": "completed"
    },
    "tags": []
   },
   "outputs": [],
   "source": [
    "def ac(data_iter, net, device):\n",
    "    num_acs = []\n",
    "    for x, y in data_iter:\n",
    "        x = x.to(device)\n",
    "        y = y.to(device)\n",
    "        y_hat = net(x)\n",
    "        maxs, indexs = torch.max(y_hat, dim=1)\n",
    "        num_acs.append(y.eq(indexs).sum()/indexs.shape[0])\n",
    "    return sum(num_acs)/len(num_acs)"
   ]
  },
  {
   "cell_type": "code",
   "execution_count": 5,
   "id": "4e4ea2ac",
   "metadata": {
    "execution": {
     "iopub.execute_input": "2023-11-21T11:52:43.974481Z",
     "iopub.status.busy": "2023-11-21T11:52:43.974232Z",
     "iopub.status.idle": "2023-11-21T11:52:44.237379Z",
     "shell.execute_reply": "2023-11-21T11:52:44.236595Z"
    },
    "papermill": {
     "duration": 0.270145,
     "end_time": "2023-11-21T11:52:44.239678",
     "exception": false,
     "start_time": "2023-11-21T11:52:43.969533",
     "status": "completed"
    },
    "tags": []
   },
   "outputs": [],
   "source": [
    "device = torch.device('cuda' if torch.cuda.is_available() else 'cpu')\n",
    "batch_size = 64\n",
    "lr = 0.1\n",
    "epoch = 50\n",
    "\n",
    "# 加载数据\n",
    "trans = transforms.Compose([transforms.Resize((224,224)),transforms.ToTensor()])\n",
    "set_train, set_test = load_data(trans)\n",
    "\n",
    "iter_train = DataLoader(set_train, batch_size=batch_size,num_workers=4)\n",
    "iter_test = DataLoader(set_test, batch_size=batch_size,num_workers=4)\n",
    "\n",
    "net = ResNet18(3,176)\n",
    "loss = nn.CrossEntropyLoss()\n",
    "updater = torch.optim.SGD(net.parameters(), lr=lr)"
   ]
  },
  {
   "cell_type": "code",
   "execution_count": 6,
   "id": "bf3a1eeb",
   "metadata": {
    "execution": {
     "iopub.execute_input": "2023-11-21T11:52:44.249328Z",
     "iopub.status.busy": "2023-11-21T11:52:44.248579Z",
     "iopub.status.idle": "2023-11-21T11:52:44.253334Z",
     "shell.execute_reply": "2023-11-21T11:52:44.252509Z"
    },
    "papermill": {
     "duration": 0.011401,
     "end_time": "2023-11-21T11:52:44.255195",
     "exception": false,
     "start_time": "2023-11-21T11:52:44.243794",
     "status": "completed"
    },
    "tags": []
   },
   "outputs": [],
   "source": [
    "# net.to(device)\n",
    "# for i in range(epoch):\n",
    "#     for batch_idx,(x,y) in enumerate(iter_train):\n",
    "#         x = x.to(device)\n",
    "#         y = y.to(device)\n",
    "\n",
    "#         y_hat = net(x)\n",
    "#         l = loss(y_hat, y)\n",
    "#         updater.zero_grad()\n",
    "#         l.backward()\n",
    "#         updater.step()\n",
    "#         # display\n",
    "#         batch_idx += 1\n",
    "#         if batch_idx%100 == 0:\n",
    "#             test_accuracy = ac(iter_test, net, device)\n",
    "#             train_accuracy = ac(iter_train, net, device)\n",
    "#             print(f'epoch:{i} [{batch_idx*batch_size}/{len(set_train)}({100.0*batch_idx*batch_size/len(set_train):.2f}%)]\\t',\n",
    "#                 f'loss:{l.item():.2f}\\t',\n",
    "#                 f'train accuracy:{100.0*test_accuracy:.2f}%\\t'\n",
    "#                 f'test accuracy:{100.0*train_accuracy:.2f}%\\t')\n",
    "#     if (i+1)%10 == 0:\n",
    "#         torch.save(net, 'resnet18_{}.pth'.format(i+1))"
   ]
  },
  {
   "cell_type": "markdown",
   "id": "e96f29ab",
   "metadata": {
    "papermill": {
     "duration": 0.00388,
     "end_time": "2023-11-21T11:52:44.262825",
     "exception": false,
     "start_time": "2023-11-21T11:52:44.258945",
     "status": "completed"
    },
    "tags": []
   },
   "source": [
    "# 预测"
   ]
  },
  {
   "cell_type": "code",
   "execution_count": 7,
   "id": "5d08d2c8",
   "metadata": {
    "execution": {
     "iopub.execute_input": "2023-11-21T11:52:44.271539Z",
     "iopub.status.busy": "2023-11-21T11:52:44.271285Z",
     "iopub.status.idle": "2023-11-21T11:52:44.279539Z",
     "shell.execute_reply": "2023-11-21T11:52:44.278667Z"
    },
    "papermill": {
     "duration": 0.014902,
     "end_time": "2023-11-21T11:52:44.281445",
     "exception": false,
     "start_time": "2023-11-21T11:52:44.266543",
     "status": "completed"
    },
    "tags": []
   },
   "outputs": [
    {
     "data": {
      "text/plain": [
       "ResNet18(\n",
       "  (net): Sequential(\n",
       "    (0): Sequential(\n",
       "      (0): Conv2d(3, 64, kernel_size=(7, 7), stride=(2, 2), padding=(3, 3))\n",
       "      (1): BatchNorm2d(64, eps=1e-05, momentum=0.1, affine=True, track_running_stats=True)\n",
       "      (2): ReLU()\n",
       "      (3): MaxPool2d(kernel_size=3, stride=2, padding=1, dilation=1, ceil_mode=False)\n",
       "    )\n",
       "    (1): Sequential(\n",
       "      (0): Residual(\n",
       "        (conv1): Conv2d(64, 64, kernel_size=(3, 3), stride=(1, 1), padding=(1, 1))\n",
       "        (conv2): Conv2d(64, 64, kernel_size=(3, 3), stride=(1, 1), padding=(1, 1))\n",
       "        (bn1): BatchNorm2d(64, eps=1e-05, momentum=0.1, affine=True, track_running_stats=True)\n",
       "        (bn2): BatchNorm2d(64, eps=1e-05, momentum=0.1, affine=True, track_running_stats=True)\n",
       "      )\n",
       "      (1): Residual(\n",
       "        (conv1): Conv2d(64, 64, kernel_size=(3, 3), stride=(1, 1), padding=(1, 1))\n",
       "        (conv2): Conv2d(64, 64, kernel_size=(3, 3), stride=(1, 1), padding=(1, 1))\n",
       "        (bn1): BatchNorm2d(64, eps=1e-05, momentum=0.1, affine=True, track_running_stats=True)\n",
       "        (bn2): BatchNorm2d(64, eps=1e-05, momentum=0.1, affine=True, track_running_stats=True)\n",
       "      )\n",
       "    )\n",
       "    (2): Sequential(\n",
       "      (0): Residual(\n",
       "        (conv1): Conv2d(64, 128, kernel_size=(3, 3), stride=(2, 2), padding=(1, 1))\n",
       "        (conv2): Conv2d(128, 128, kernel_size=(3, 3), stride=(1, 1), padding=(1, 1))\n",
       "        (conv3): Conv2d(64, 128, kernel_size=(1, 1), stride=(2, 2))\n",
       "        (bn1): BatchNorm2d(128, eps=1e-05, momentum=0.1, affine=True, track_running_stats=True)\n",
       "        (bn2): BatchNorm2d(128, eps=1e-05, momentum=0.1, affine=True, track_running_stats=True)\n",
       "      )\n",
       "      (1): Residual(\n",
       "        (conv1): Conv2d(128, 128, kernel_size=(3, 3), stride=(1, 1), padding=(1, 1))\n",
       "        (conv2): Conv2d(128, 128, kernel_size=(3, 3), stride=(1, 1), padding=(1, 1))\n",
       "        (bn1): BatchNorm2d(128, eps=1e-05, momentum=0.1, affine=True, track_running_stats=True)\n",
       "        (bn2): BatchNorm2d(128, eps=1e-05, momentum=0.1, affine=True, track_running_stats=True)\n",
       "      )\n",
       "    )\n",
       "    (3): Sequential(\n",
       "      (0): Residual(\n",
       "        (conv1): Conv2d(128, 256, kernel_size=(3, 3), stride=(2, 2), padding=(1, 1))\n",
       "        (conv2): Conv2d(256, 256, kernel_size=(3, 3), stride=(1, 1), padding=(1, 1))\n",
       "        (conv3): Conv2d(128, 256, kernel_size=(1, 1), stride=(2, 2))\n",
       "        (bn1): BatchNorm2d(256, eps=1e-05, momentum=0.1, affine=True, track_running_stats=True)\n",
       "        (bn2): BatchNorm2d(256, eps=1e-05, momentum=0.1, affine=True, track_running_stats=True)\n",
       "      )\n",
       "      (1): Residual(\n",
       "        (conv1): Conv2d(256, 256, kernel_size=(3, 3), stride=(1, 1), padding=(1, 1))\n",
       "        (conv2): Conv2d(256, 256, kernel_size=(3, 3), stride=(1, 1), padding=(1, 1))\n",
       "        (bn1): BatchNorm2d(256, eps=1e-05, momentum=0.1, affine=True, track_running_stats=True)\n",
       "        (bn2): BatchNorm2d(256, eps=1e-05, momentum=0.1, affine=True, track_running_stats=True)\n",
       "      )\n",
       "    )\n",
       "    (4): Sequential(\n",
       "      (0): Residual(\n",
       "        (conv1): Conv2d(256, 512, kernel_size=(3, 3), stride=(2, 2), padding=(1, 1))\n",
       "        (conv2): Conv2d(512, 512, kernel_size=(3, 3), stride=(1, 1), padding=(1, 1))\n",
       "        (conv3): Conv2d(256, 512, kernel_size=(1, 1), stride=(2, 2))\n",
       "        (bn1): BatchNorm2d(512, eps=1e-05, momentum=0.1, affine=True, track_running_stats=True)\n",
       "        (bn2): BatchNorm2d(512, eps=1e-05, momentum=0.1, affine=True, track_running_stats=True)\n",
       "      )\n",
       "      (1): Residual(\n",
       "        (conv1): Conv2d(512, 512, kernel_size=(3, 3), stride=(1, 1), padding=(1, 1))\n",
       "        (conv2): Conv2d(512, 512, kernel_size=(3, 3), stride=(1, 1), padding=(1, 1))\n",
       "        (bn1): BatchNorm2d(512, eps=1e-05, momentum=0.1, affine=True, track_running_stats=True)\n",
       "        (bn2): BatchNorm2d(512, eps=1e-05, momentum=0.1, affine=True, track_running_stats=True)\n",
       "      )\n",
       "    )\n",
       "    (5): AdaptiveAvgPool2d(output_size=(1, 1))\n",
       "    (6): Flatten(start_dim=1, end_dim=-1)\n",
       "    (7): Linear(in_features=512, out_features=176, bias=True)\n",
       "  )\n",
       ")"
      ]
     },
     "execution_count": 7,
     "metadata": {},
     "output_type": "execute_result"
    }
   ],
   "source": [
    "maps_trans = {v:k for k,v in maps.items()}\n",
    "net.eval()"
   ]
  },
  {
   "cell_type": "code",
   "execution_count": 8,
   "id": "0fd939a4",
   "metadata": {
    "execution": {
     "iopub.execute_input": "2023-11-21T11:52:44.290924Z",
     "iopub.status.busy": "2023-11-21T11:52:44.290625Z",
     "iopub.status.idle": "2023-11-21T11:52:47.872827Z",
     "shell.execute_reply": "2023-11-21T11:52:47.872020Z"
    },
    "papermill": {
     "duration": 3.589409,
     "end_time": "2023-11-21T11:52:47.875092",
     "exception": false,
     "start_time": "2023-11-21T11:52:44.285683",
     "status": "completed"
    },
    "tags": []
   },
   "outputs": [],
   "source": [
    "from torch.nn import functional as F\n",
    "\n",
    "model_path = '/kaggle/input/train-out-model/resnet18_50.pth'\n",
    "data_root_dir = '/kaggle/input/classify-leaves/'\n",
    "\n",
    "net = torch.load(model_path)\n",
    "test_df = pd.read_csv(os.path.join(data_root_dir,'test.csv'))\n",
    "\n",
    "def predict(image_path, net):\n",
    "    trans = transforms.Compose([transforms.Resize((224,224)), transforms.ToTensor()])\n",
    "    image_tensor = trans(Image.open(image_path).convert('RGB'))\n",
    "    image_tensor = image_tensor.reshape((1,)+ image_tensor.shape).cuda()\n",
    "#     return image_tensor.shape\n",
    "    y_hat = F.softmax(net(image_tensor), dim=1)\n",
    "    _, index = torch.max(y_hat, dim=1)\n",
    "    return index.item()"
   ]
  },
  {
   "cell_type": "code",
   "execution_count": 9,
   "id": "fec37103",
   "metadata": {
    "execution": {
     "iopub.execute_input": "2023-11-21T11:52:47.885242Z",
     "iopub.status.busy": "2023-11-21T11:52:47.884675Z",
     "iopub.status.idle": "2023-11-21T11:54:35.613459Z",
     "shell.execute_reply": "2023-11-21T11:54:35.612297Z"
    },
    "papermill": {
     "duration": 107.736158,
     "end_time": "2023-11-21T11:54:35.615902",
     "exception": false,
     "start_time": "2023-11-21T11:52:47.879744",
     "status": "completed"
    },
    "tags": []
   },
   "outputs": [
    {
     "name": "stdout",
     "output_type": "stream",
     "text": [
      "0/8800(0.00)\t label:crataegus_crus-galli\t\n",
      "100/8800(1.14)\t label:sassafras_albidum\t\n",
      "200/8800(2.27)\t label:sassafras_albidum\t\n",
      "300/8800(3.41)\t label:crataegus_crus-galli\t\n",
      "400/8800(4.55)\t label:crataegus_crus-galli\t\n",
      "500/8800(5.68)\t label:sassafras_albidum\t\n",
      "600/8800(6.82)\t label:sassafras_albidum\t\n",
      "700/8800(7.95)\t label:sassafras_albidum\t\n",
      "800/8800(9.09)\t label:crataegus_crus-galli\t\n",
      "900/8800(10.23)\t label:sassafras_albidum\t\n",
      "1000/8800(11.36)\t label:sassafras_albidum\t\n",
      "1100/8800(12.50)\t label:sassafras_albidum\t\n",
      "1200/8800(13.64)\t label:sassafras_albidum\t\n",
      "1300/8800(14.77)\t label:sassafras_albidum\t\n",
      "1400/8800(15.91)\t label:sassafras_albidum\t\n",
      "1500/8800(17.05)\t label:sassafras_albidum\t\n",
      "1600/8800(18.18)\t label:crataegus_crus-galli\t\n",
      "1700/8800(19.32)\t label:sassafras_albidum\t\n",
      "1800/8800(20.45)\t label:sassafras_albidum\t\n",
      "1900/8800(21.59)\t label:crataegus_crus-galli\t\n",
      "2000/8800(22.73)\t label:sassafras_albidum\t\n",
      "2100/8800(23.86)\t label:sassafras_albidum\t\n",
      "2200/8800(25.00)\t label:sassafras_albidum\t\n",
      "2300/8800(26.14)\t label:sassafras_albidum\t\n",
      "2400/8800(27.27)\t label:sassafras_albidum\t\n",
      "2500/8800(28.41)\t label:crataegus_crus-galli\t\n",
      "2600/8800(29.55)\t label:sassafras_albidum\t\n",
      "2700/8800(30.68)\t label:sassafras_albidum\t\n",
      "2800/8800(31.82)\t label:sassafras_albidum\t\n",
      "2900/8800(32.95)\t label:sassafras_albidum\t\n",
      "3000/8800(34.09)\t label:sassafras_albidum\t\n",
      "3100/8800(35.23)\t label:crataegus_crus-galli\t\n",
      "3200/8800(36.36)\t label:sassafras_albidum\t\n",
      "3300/8800(37.50)\t label:sassafras_albidum\t\n",
      "3400/8800(38.64)\t label:sassafras_albidum\t\n",
      "3500/8800(39.77)\t label:sassafras_albidum\t\n",
      "3600/8800(40.91)\t label:crataegus_crus-galli\t\n",
      "3700/8800(42.05)\t label:crataegus_crus-galli\t\n",
      "3800/8800(43.18)\t label:sassafras_albidum\t\n",
      "3900/8800(44.32)\t label:sassafras_albidum\t\n",
      "4000/8800(45.45)\t label:sassafras_albidum\t\n",
      "4100/8800(46.59)\t label:crataegus_crus-galli\t\n",
      "4200/8800(47.73)\t label:sassafras_albidum\t\n",
      "4300/8800(48.86)\t label:crataegus_crus-galli\t\n",
      "4400/8800(50.00)\t label:sassafras_albidum\t\n",
      "4500/8800(51.14)\t label:sassafras_albidum\t\n",
      "4600/8800(52.27)\t label:sassafras_albidum\t\n",
      "4700/8800(53.41)\t label:sassafras_albidum\t\n",
      "4800/8800(54.55)\t label:crataegus_crus-galli\t\n",
      "4900/8800(55.68)\t label:crataegus_crus-galli\t\n",
      "5000/8800(56.82)\t label:sassafras_albidum\t\n",
      "5100/8800(57.95)\t label:sassafras_albidum\t\n",
      "5200/8800(59.09)\t label:sassafras_albidum\t\n",
      "5300/8800(60.23)\t label:sassafras_albidum\t\n",
      "5400/8800(61.36)\t label:crataegus_crus-galli\t\n",
      "5500/8800(62.50)\t label:crataegus_crus-galli\t\n",
      "5600/8800(63.64)\t label:crataegus_crus-galli\t\n",
      "5700/8800(64.77)\t label:sassafras_albidum\t\n",
      "5800/8800(65.91)\t label:sassafras_albidum\t\n",
      "5900/8800(67.05)\t label:crataegus_crus-galli\t\n",
      "6000/8800(68.18)\t label:sassafras_albidum\t\n",
      "6100/8800(69.32)\t label:sassafras_albidum\t\n",
      "6200/8800(70.45)\t label:crataegus_crus-galli\t\n",
      "6300/8800(71.59)\t label:sassafras_albidum\t\n",
      "6400/8800(72.73)\t label:sassafras_albidum\t\n",
      "6500/8800(73.86)\t label:sassafras_albidum\t\n",
      "6600/8800(75.00)\t label:sassafras_albidum\t\n",
      "6700/8800(76.14)\t label:sassafras_albidum\t\n",
      "6800/8800(77.27)\t label:sassafras_albidum\t\n",
      "6900/8800(78.41)\t label:sassafras_albidum\t\n",
      "7000/8800(79.55)\t label:sassafras_albidum\t\n",
      "7100/8800(80.68)\t label:sassafras_albidum\t\n",
      "7200/8800(81.82)\t label:crataegus_crus-galli\t\n",
      "7300/8800(82.95)\t label:sassafras_albidum\t\n",
      "7400/8800(84.09)\t label:crataegus_crus-galli\t\n",
      "7500/8800(85.23)\t label:crataegus_crus-galli\t\n",
      "7600/8800(86.36)\t label:sassafras_albidum\t\n",
      "7700/8800(87.50)\t label:sassafras_albidum\t\n",
      "7800/8800(88.64)\t label:sassafras_albidum\t\n",
      "7900/8800(89.77)\t label:sassafras_albidum\t\n",
      "8000/8800(90.91)\t label:sassafras_albidum\t\n",
      "8100/8800(92.05)\t label:crataegus_crus-galli\t\n",
      "8200/8800(93.18)\t label:sassafras_albidum\t\n",
      "8300/8800(94.32)\t label:sassafras_albidum\t\n",
      "8400/8800(95.45)\t label:sassafras_albidum\t\n",
      "8500/8800(96.59)\t label:sassafras_albidum\t\n",
      "8600/8800(97.73)\t label:sassafras_albidum\t\n",
      "8700/8800(98.86)\t label:sassafras_albidum\t\n"
     ]
    }
   ],
   "source": [
    "test_df['label'] = None\n",
    "for i in range(test_df.shape[0]):\n",
    "    label = predict(os.path.join(data_root_dir,test_df.iloc[i,0]), net)\n",
    "    label = maps_trans[label]\n",
    "    test_df.iloc[i,1] = label\n",
    "    if i%100==0:\n",
    "        print(f'{i}/{test_df.shape[0]}({100.0*i/test_df.shape[0]:.2f})\\t', f'label:{label}\\t')"
   ]
  },
  {
   "cell_type": "code",
   "execution_count": 10,
   "id": "c0d535af",
   "metadata": {
    "execution": {
     "iopub.execute_input": "2023-11-21T11:54:35.639511Z",
     "iopub.status.busy": "2023-11-21T11:54:35.639196Z",
     "iopub.status.idle": "2023-11-21T11:54:35.679639Z",
     "shell.execute_reply": "2023-11-21T11:54:35.678740Z"
    },
    "papermill": {
     "duration": 0.054081,
     "end_time": "2023-11-21T11:54:35.681467",
     "exception": false,
     "start_time": "2023-11-21T11:54:35.627386",
     "status": "completed"
    },
    "tags": []
   },
   "outputs": [
    {
     "data": {
      "text/plain": [
       "label\n",
       "sassafras_albidum        6538\n",
       "crataegus_crus-galli     2119\n",
       "pinus_strobus             103\n",
       "ginkgo_biloba              23\n",
       "quercus_muehlenbergii      13\n",
       "staphylea_trifolia          4\n",
       "Name: count, dtype: int64"
      ]
     },
     "execution_count": 10,
     "metadata": {},
     "output_type": "execute_result"
    }
   ],
   "source": [
    "test_df.to_csv('submission.csv', index=False)\n",
    "test_df['label'].value_counts()"
   ]
  }
 ],
 "metadata": {
  "kaggle": {
   "accelerator": "gpu",
   "dataSources": [
    {
     "databundleVersionId": 2318453,
     "sourceId": 29193,
     "sourceType": "competition"
    },
    {
     "datasetId": 4033494,
     "sourceId": 7015340,
     "sourceType": "datasetVersion"
    }
   ],
   "dockerImageVersionId": 30588,
   "isGpuEnabled": true,
   "isInternetEnabled": true,
   "language": "python",
   "sourceType": "notebook"
  },
  "kernelspec": {
   "display_name": "Python 3",
   "language": "python",
   "name": "python3"
  },
  "language_info": {
   "codemirror_mode": {
    "name": "ipython",
    "version": 3
   },
   "file_extension": ".py",
   "mimetype": "text/x-python",
   "name": "python",
   "nbconvert_exporter": "python",
   "pygments_lexer": "ipython3",
   "version": "3.10.12"
  },
  "papermill": {
   "default_parameters": {},
   "duration": 122.589236,
   "end_time": "2023-11-21T11:54:37.837306",
   "environment_variables": {},
   "exception": null,
   "input_path": "__notebook__.ipynb",
   "output_path": "__notebook__.ipynb",
   "parameters": {},
   "start_time": "2023-11-21T11:52:35.248070",
   "version": "2.4.0"
  }
 },
 "nbformat": 4,
 "nbformat_minor": 5
}
