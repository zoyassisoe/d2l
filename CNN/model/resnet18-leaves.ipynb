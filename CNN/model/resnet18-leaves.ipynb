{
 "cells": [
  {
   "cell_type": "code",
   "execution_count": 1,
   "id": "48f36ca2",
   "metadata": {
    "execution": {
     "iopub.execute_input": "2023-11-21T08:46:47.344517Z",
     "iopub.status.busy": "2023-11-21T08:46:47.344153Z",
     "iopub.status.idle": "2023-11-21T08:46:51.304483Z",
     "shell.execute_reply": "2023-11-21T08:46:51.303479Z"
    },
    "papermill": {
     "duration": 3.968752,
     "end_time": "2023-11-21T08:46:51.307424",
     "exception": false,
     "start_time": "2023-11-21T08:46:47.338672",
     "status": "completed"
    },
    "tags": []
   },
   "outputs": [],
   "source": [
    "import torchvision\n",
    "from torchvision import transforms\n",
    "import torch\n",
    "from torch.utils.data import DataLoader, Dataset\n",
    "\n",
    "global maps"
   ]
  },
  {
   "cell_type": "code",
   "execution_count": 2,
   "id": "4ec9f0ee",
   "metadata": {
    "execution": {
     "iopub.execute_input": "2023-11-21T08:46:51.320680Z",
     "iopub.status.busy": "2023-11-21T08:46:51.320268Z",
     "iopub.status.idle": "2023-11-21T08:46:52.863111Z",
     "shell.execute_reply": "2023-11-21T08:46:52.862132Z"
    },
    "papermill": {
     "duration": 1.551945,
     "end_time": "2023-11-21T08:46:52.865629",
     "exception": false,
     "start_time": "2023-11-21T08:46:51.313684",
     "status": "completed"
    },
    "tags": []
   },
   "outputs": [
    {
     "name": "stderr",
     "output_type": "stream",
     "text": [
      "/opt/conda/lib/python3.10/site-packages/scipy/__init__.py:146: UserWarning: A NumPy version >=1.16.5 and <1.23.0 is required for this version of SciPy (detected version 1.24.3\n",
      "  warnings.warn(f\"A NumPy version >={np_minversion} and <{np_maxversion}\"\n"
     ]
    }
   ],
   "source": [
    "import pandas as pd\n",
    "# import numpy as np\n",
    "import os\n",
    "from sklearn.utils import shuffle\n",
    "from PIL import Image\n",
    "\n",
    "\n",
    "data_root_dir = '/kaggle/input/classify-leaves'\n",
    "data_csv_path = os.path.join(data_root_dir, './train.csv')\n",
    "\n",
    "class LeaveDataset(Dataset):\n",
    "    def __init__(self, data_frame, root_dir, transform=None) -> None:\n",
    "        self.data_frame = data_frame\n",
    "        self.root_dir = root_dir\n",
    "        self.transform = transform\n",
    "\n",
    "    def __len__(self):\n",
    "        return len(self.data_frame)\n",
    "    \n",
    "    def __getitem__(self, idx):\n",
    "        imgpath = os.path.join(self.root_dir, self.data_frame.iloc[idx,0])\n",
    "        label = self.data_frame.iloc[idx,2]\n",
    "        img = Image.open(imgpath).convert('RGB')\n",
    "        if self.transform:\n",
    "            img = self.transform(img)\n",
    "\n",
    "        return img, label\n",
    "\n",
    "\n",
    "def load_csv(path):\n",
    "    df = pd.read_csv(path)\n",
    "    list_type = df['label'].unique()\n",
    "    dic = {}\n",
    "    for i,t in enumerate(list_type):\n",
    "        dic[t] = i\n",
    "    global maps    \n",
    "    maps = dic\n",
    "    df['num_label'] = df['label'].map(dic)\n",
    "    return df\n",
    "\n",
    "def load_data(transform):\n",
    "    data_df = load_csv(data_csv_path)\n",
    "    full_dataset = LeaveDataset(data_df, data_root_dir, transform)\n",
    "    train_size = int(len(full_dataset)*0.9)\n",
    "    test_size = len(full_dataset)-train_size\n",
    "    train_dataset, test_dataset = torch.utils.data.random_split(full_dataset, [train_size, test_size])\n",
    "\n",
    "    return train_dataset, test_dataset"
   ]
  },
  {
   "cell_type": "code",
   "execution_count": 3,
   "id": "2b9876d9",
   "metadata": {
    "execution": {
     "iopub.execute_input": "2023-11-21T08:46:52.875889Z",
     "iopub.status.busy": "2023-11-21T08:46:52.875455Z",
     "iopub.status.idle": "2023-11-21T08:46:53.002744Z",
     "shell.execute_reply": "2023-11-21T08:46:53.001808Z"
    },
    "papermill": {
     "duration": 0.135045,
     "end_time": "2023-11-21T08:46:53.005115",
     "exception": false,
     "start_time": "2023-11-21T08:46:52.870070",
     "status": "completed"
    },
    "tags": []
   },
   "outputs": [],
   "source": [
    "from torch import nn\n",
    "from torch.nn import functional as F\n",
    "\n",
    "\n",
    "class Residual(nn.Module):\n",
    "    def __init__(self, in_channels, out_channels, use_1x1conv=False, stride=1) -> None:\n",
    "        super().__init__()\n",
    "        # conv2不会改变高宽,resnet的设计是当conv1的stride不等于1的时候会改变高宽，那么相应的会使用1x1conv去改变输入的高宽\n",
    "        # conv1 k=3 s=2 p=1与conv3 k=1 s=2 p=0 的输出高宽相同(2p-k)是相同的\n",
    "        # 在in_channels与out_channels不同的时候就会使用1x1conv\n",
    "        self.conv1 = nn.Conv2d(in_channels, out_channels, kernel_size=3, padding=1, stride=stride)\n",
    "        self.conv2 = nn.Conv2d(out_channels, out_channels, kernel_size=3, padding=1)\n",
    "        if use_1x1conv:\n",
    "            self.conv3 = nn.Conv2d(in_channels, out_channels, kernel_size=1, stride=stride)\n",
    "        else:\n",
    "            self.conv3 = None\n",
    "\n",
    "        self.bn1 = nn.BatchNorm2d(out_channels)\n",
    "        self.bn2 = nn.BatchNorm2d(out_channels)\n",
    "    def forward(self ,x):\n",
    "        y = F.relu(self.bn1(self.conv1(x)))\n",
    "        y = self.bn2(self.conv2(y))\n",
    "        if self.conv3:\n",
    "            x = self.conv3(x)\n",
    "        \n",
    "        # 注意这里是直接相加，而不是叠加通道\n",
    "        y += x\n",
    "        return F.relu(y)\n",
    "\n",
    "def resnet_block(in_channels, out_channels, num_residuals, first_block=False):\n",
    "    blk = []\n",
    "    for i in range(num_residuals):\n",
    "        if i==0 and not first_block:\n",
    "            # first_block的in_channels = out_channels\n",
    "            blk.append(Residual(in_channels, out_channels, use_1x1conv=True, stride=2))\n",
    "        else:\n",
    "            blk.append(Residual(out_channels, out_channels))\n",
    "    return blk\n",
    "\n",
    "\n",
    "class ResNet18(nn.Module):\n",
    "    def __init__(self, in_channels, dims=10) -> None:\n",
    "        super().__init__()\n",
    "        b1 = nn.Sequential(\n",
    "            nn.Conv2d(in_channels, 64, kernel_size=7, stride=2, padding=3),\n",
    "            nn.BatchNorm2d(64), nn.ReLU(),\n",
    "            nn.MaxPool2d(kernel_size=3, stride=2,padding=1)\n",
    "        )\n",
    "        b2 = nn.Sequential(*resnet_block(64, 64, 2, first_block=True))\n",
    "        b3 = nn.Sequential(*resnet_block(64, 128, 2))\n",
    "        b4 = nn.Sequential(*resnet_block(128, 256, 2))\n",
    "        b5 = nn.Sequential(*resnet_block(256, 512, 2))\n",
    "        self.net = nn.Sequential(\n",
    "            b1, b2, b3, b4, b5,\n",
    "            nn.AdaptiveAvgPool2d((1,1)),\n",
    "            nn.Flatten(),\n",
    "            nn.Linear(512, dims)\n",
    "        )\n",
    "    \n",
    "    def forward(self, x):\n",
    "        return self.net(x)"
   ]
  },
  {
   "cell_type": "code",
   "execution_count": 4,
   "id": "e9b38f08",
   "metadata": {
    "execution": {
     "iopub.execute_input": "2023-11-21T08:46:53.016431Z",
     "iopub.status.busy": "2023-11-21T08:46:53.016091Z",
     "iopub.status.idle": "2023-11-21T08:46:53.022125Z",
     "shell.execute_reply": "2023-11-21T08:46:53.021256Z"
    },
    "papermill": {
     "duration": 0.014209,
     "end_time": "2023-11-21T08:46:53.024261",
     "exception": false,
     "start_time": "2023-11-21T08:46:53.010052",
     "status": "completed"
    },
    "tags": []
   },
   "outputs": [],
   "source": [
    "def ac(data_iter, net, device):\n",
    "    num_acs = []\n",
    "    for x, y in data_iter:\n",
    "        x = x.to(device)\n",
    "        y = y.to(device)\n",
    "        y_hat = net(x)\n",
    "        maxs, indexs = torch.max(y_hat, dim=1)\n",
    "        num_acs.append(y.eq(indexs).sum()/indexs.shape[0])\n",
    "    return sum(num_acs)/len(num_acs)"
   ]
  },
  {
   "cell_type": "code",
   "execution_count": 5,
   "id": "f01ac1d8",
   "metadata": {
    "execution": {
     "iopub.execute_input": "2023-11-21T08:46:53.034806Z",
     "iopub.status.busy": "2023-11-21T08:46:53.034480Z",
     "iopub.status.idle": "2023-11-21T08:46:53.330107Z",
     "shell.execute_reply": "2023-11-21T08:46:53.328797Z"
    },
    "papermill": {
     "duration": 0.304015,
     "end_time": "2023-11-21T08:46:53.332973",
     "exception": false,
     "start_time": "2023-11-21T08:46:53.028958",
     "status": "completed"
    },
    "tags": []
   },
   "outputs": [],
   "source": [
    "device = torch.device('cuda' if torch.cuda.is_available() else 'cpu')\n",
    "batch_size = 64\n",
    "lr = 0.1\n",
    "epoch = 2\n",
    "\n",
    "# 加载数据\n",
    "trans = transforms.Compose([transforms.Resize((224,224)),transforms.ToTensor()])\n",
    "set_train, set_test = load_data(trans)\n",
    "\n",
    "iter_train = DataLoader(set_train, batch_size=batch_size,num_workers=4)\n",
    "iter_test = DataLoader(set_test, batch_size=batch_size,num_workers=4)\n",
    "\n",
    "net = ResNet18(3,176)\n",
    "loss = nn.CrossEntropyLoss()\n",
    "updater = torch.optim.SGD(net.parameters(), lr=lr)"
   ]
  },
  {
   "cell_type": "code",
   "execution_count": 6,
   "id": "2f71e9f4",
   "metadata": {
    "execution": {
     "iopub.execute_input": "2023-11-21T08:46:53.344314Z",
     "iopub.status.busy": "2023-11-21T08:46:53.343966Z",
     "iopub.status.idle": "2023-11-21T08:49:13.148688Z",
     "shell.execute_reply": "2023-11-21T08:49:13.147462Z"
    },
    "papermill": {
     "duration": 139.813281,
     "end_time": "2023-11-21T08:49:13.151315",
     "exception": false,
     "start_time": "2023-11-21T08:46:53.338034",
     "status": "completed"
    },
    "tags": []
   },
   "outputs": [
    {
     "name": "stdout",
     "output_type": "stream",
     "text": [
      "epoch:0 [6400/16517(38.75%)]\t loss:3.87\t train accuracy:8.10%\ttest accuracy:7.38%\t\n",
      "epoch:0 [12800/16517(77.50%)]\t loss:3.12\t train accuracy:16.77%\ttest accuracy:14.73%\t\n",
      "epoch:1 [6400/16517(38.75%)]\t loss:2.59\t train accuracy:30.58%\ttest accuracy:29.63%\t\n",
      "epoch:1 [12800/16517(77.50%)]\t loss:2.20\t train accuracy:35.16%\ttest accuracy:32.54%\t\n"
     ]
    }
   ],
   "source": [
    "net.to(device)\n",
    "for i in range(epoch):\n",
    "    for batch_idx,(x,y) in enumerate(iter_train):\n",
    "        x = x.to(device)\n",
    "        y = y.to(device)\n",
    "        y_hat = net(x)\n",
    "        l = loss(y_hat, y)\n",
    "        updater.zero_grad()\n",
    "        l.backward()\n",
    "        updater.step()\n",
    "        # display\n",
    "        batch_idx += 1\n",
    "        if batch_idx%100 == 0:\n",
    "            test_accuracy = ac(iter_test, net, device)\n",
    "            train_accuracy = ac(iter_train, net, device)\n",
    "            print(f'epoch:{i} [{batch_idx*batch_size}/{len(set_train)}({100.0*batch_idx*batch_size/len(set_train):.2f}%)]\\t',\n",
    "                f'loss:{l.item():.2f}\\t',\n",
    "                f'train accuracy:{100.0*train_accuracy:.2f}%\\t'\n",
    "                f'test accuracy:{100.0*test_accuracy:.2f}%\\t')\n",
    "    if (i+1)%10 == 0:\n",
    "        torch.save(net, 'resnet18_{}.pth'.format(i+1))"
   ]
  },
  {
   "cell_type": "markdown",
   "id": "5d0285de",
   "metadata": {
    "papermill": {
     "duration": 0.004283,
     "end_time": "2023-11-21T08:49:13.160429",
     "exception": false,
     "start_time": "2023-11-21T08:49:13.156146",
     "status": "completed"
    },
    "tags": []
   },
   "source": [
    "# 预测"
   ]
  },
  {
   "cell_type": "code",
   "execution_count": 7,
   "id": "84a55605",
   "metadata": {
    "execution": {
     "iopub.execute_input": "2023-11-21T08:49:13.170983Z",
     "iopub.status.busy": "2023-11-21T08:49:13.170608Z",
     "iopub.status.idle": "2023-11-21T08:49:13.175930Z",
     "shell.execute_reply": "2023-11-21T08:49:13.174887Z"
    },
    "papermill": {
     "duration": 0.013116,
     "end_time": "2023-11-21T08:49:13.177870",
     "exception": false,
     "start_time": "2023-11-21T08:49:13.164754",
     "status": "completed"
    },
    "tags": []
   },
   "outputs": [],
   "source": [
    "maps_trans = {v:k for k,v in maps.items()}"
   ]
  },
  {
   "cell_type": "code",
   "execution_count": 8,
   "id": "d3edec9e",
   "metadata": {
    "execution": {
     "iopub.execute_input": "2023-11-21T08:49:13.187614Z",
     "iopub.status.busy": "2023-11-21T08:49:13.187364Z",
     "iopub.status.idle": "2023-11-21T08:49:13.205517Z",
     "shell.execute_reply": "2023-11-21T08:49:13.204670Z"
    },
    "papermill": {
     "duration": 0.025202,
     "end_time": "2023-11-21T08:49:13.207461",
     "exception": false,
     "start_time": "2023-11-21T08:49:13.182259",
     "status": "completed"
    },
    "tags": []
   },
   "outputs": [],
   "source": [
    "from torch.nn import functional as F\n",
    "\n",
    "model_path = '/kaggle/input/train-out-model/resnet18_50.pth'\n",
    "data_root_dir = '/kaggle/input/classify-leaves/'\n",
    "\n",
    "#net = torch.load(model_path)\n",
    "test_df = pd.read_csv(os.path.join(data_root_dir,'test.csv'))\n",
    "\n",
    "def predict(image_path, net):\n",
    "    trans = transforms.Compose([transforms.Resize((224,224)), transforms.ToTensor()])\n",
    "    image_tensor = trans(Image.open(image_path).convert('RGB'))\n",
    "    image_tensor = image_tensor.reshape((1,)+ image_tensor.shape).cuda()\n",
    "#     return image_tensor.shape\n",
    "    y_hat=net(image_tensor)\n",
    "    #y_hat = F.softmax(net(image_tensor), dim=1)\n",
    "    _, index = torch.max(y_hat, dim=1)\n",
    "    return index.item()"
   ]
  },
  {
   "cell_type": "code",
   "execution_count": 9,
   "id": "3a0ac7de",
   "metadata": {
    "execution": {
     "iopub.execute_input": "2023-11-21T08:49:13.217319Z",
     "iopub.status.busy": "2023-11-21T08:49:13.217024Z",
     "iopub.status.idle": "2023-11-21T08:50:32.387803Z",
     "shell.execute_reply": "2023-11-21T08:50:32.386789Z"
    },
    "papermill": {
     "duration": 79.1783,
     "end_time": "2023-11-21T08:50:32.390166",
     "exception": false,
     "start_time": "2023-11-21T08:49:13.211866",
     "status": "completed"
    },
    "tags": []
   },
   "outputs": [
    {
     "name": "stdout",
     "output_type": "stream",
     "text": [
      "0/8800(0.00)\t label:diospyros_virginiana\t\n",
      "100/8800(1.14)\t label:diospyros_virginiana\t\n",
      "200/8800(2.27)\t label:diospyros_virginiana\t\n",
      "300/8800(3.41)\t label:diospyros_virginiana\t\n",
      "400/8800(4.55)\t label:diospyros_virginiana\t\n",
      "500/8800(5.68)\t label:diospyros_virginiana\t\n",
      "600/8800(6.82)\t label:diospyros_virginiana\t\n",
      "700/8800(7.95)\t label:diospyros_virginiana\t\n",
      "800/8800(9.09)\t label:diospyros_virginiana\t\n",
      "900/8800(10.23)\t label:diospyros_virginiana\t\n",
      "1000/8800(11.36)\t label:diospyros_virginiana\t\n",
      "1100/8800(12.50)\t label:diospyros_virginiana\t\n",
      "1200/8800(13.64)\t label:diospyros_virginiana\t\n",
      "1300/8800(14.77)\t label:diospyros_virginiana\t\n",
      "1400/8800(15.91)\t label:diospyros_virginiana\t\n",
      "1500/8800(17.05)\t label:diospyros_virginiana\t\n",
      "1600/8800(18.18)\t label:diospyros_virginiana\t\n",
      "1700/8800(19.32)\t label:diospyros_virginiana\t\n",
      "1800/8800(20.45)\t label:diospyros_virginiana\t\n",
      "1900/8800(21.59)\t label:diospyros_virginiana\t\n",
      "2000/8800(22.73)\t label:diospyros_virginiana\t\n",
      "2100/8800(23.86)\t label:diospyros_virginiana\t\n",
      "2200/8800(25.00)\t label:diospyros_virginiana\t\n",
      "2300/8800(26.14)\t label:diospyros_virginiana\t\n",
      "2400/8800(27.27)\t label:diospyros_virginiana\t\n",
      "2500/8800(28.41)\t label:diospyros_virginiana\t\n",
      "2600/8800(29.55)\t label:diospyros_virginiana\t\n",
      "2700/8800(30.68)\t label:diospyros_virginiana\t\n",
      "2800/8800(31.82)\t label:diospyros_virginiana\t\n",
      "2900/8800(32.95)\t label:diospyros_virginiana\t\n",
      "3000/8800(34.09)\t label:diospyros_virginiana\t\n",
      "3100/8800(35.23)\t label:diospyros_virginiana\t\n",
      "3200/8800(36.36)\t label:diospyros_virginiana\t\n",
      "3300/8800(37.50)\t label:diospyros_virginiana\t\n",
      "3400/8800(38.64)\t label:diospyros_virginiana\t\n",
      "3500/8800(39.77)\t label:diospyros_virginiana\t\n",
      "3600/8800(40.91)\t label:diospyros_virginiana\t\n",
      "3700/8800(42.05)\t label:diospyros_virginiana\t\n",
      "3800/8800(43.18)\t label:diospyros_virginiana\t\n",
      "3900/8800(44.32)\t label:diospyros_virginiana\t\n",
      "4000/8800(45.45)\t label:diospyros_virginiana\t\n",
      "4100/8800(46.59)\t label:diospyros_virginiana\t\n",
      "4200/8800(47.73)\t label:diospyros_virginiana\t\n",
      "4300/8800(48.86)\t label:diospyros_virginiana\t\n",
      "4400/8800(50.00)\t label:diospyros_virginiana\t\n",
      "4500/8800(51.14)\t label:diospyros_virginiana\t\n",
      "4600/8800(52.27)\t label:diospyros_virginiana\t\n",
      "4700/8800(53.41)\t label:diospyros_virginiana\t\n",
      "4800/8800(54.55)\t label:diospyros_virginiana\t\n",
      "4900/8800(55.68)\t label:diospyros_virginiana\t\n",
      "5000/8800(56.82)\t label:diospyros_virginiana\t\n",
      "5100/8800(57.95)\t label:diospyros_virginiana\t\n",
      "5200/8800(59.09)\t label:diospyros_virginiana\t\n",
      "5300/8800(60.23)\t label:diospyros_virginiana\t\n",
      "5400/8800(61.36)\t label:diospyros_virginiana\t\n",
      "5500/8800(62.50)\t label:diospyros_virginiana\t\n",
      "5600/8800(63.64)\t label:diospyros_virginiana\t\n",
      "5700/8800(64.77)\t label:diospyros_virginiana\t\n",
      "5800/8800(65.91)\t label:diospyros_virginiana\t\n",
      "5900/8800(67.05)\t label:diospyros_virginiana\t\n",
      "6000/8800(68.18)\t label:diospyros_virginiana\t\n",
      "6100/8800(69.32)\t label:diospyros_virginiana\t\n",
      "6200/8800(70.45)\t label:diospyros_virginiana\t\n",
      "6300/8800(71.59)\t label:diospyros_virginiana\t\n",
      "6400/8800(72.73)\t label:diospyros_virginiana\t\n",
      "6500/8800(73.86)\t label:diospyros_virginiana\t\n",
      "6600/8800(75.00)\t label:diospyros_virginiana\t\n",
      "6700/8800(76.14)\t label:diospyros_virginiana\t\n",
      "6800/8800(77.27)\t label:diospyros_virginiana\t\n",
      "6900/8800(78.41)\t label:diospyros_virginiana\t\n",
      "7000/8800(79.55)\t label:diospyros_virginiana\t\n",
      "7100/8800(80.68)\t label:diospyros_virginiana\t\n",
      "7200/8800(81.82)\t label:diospyros_virginiana\t\n",
      "7300/8800(82.95)\t label:diospyros_virginiana\t\n",
      "7400/8800(84.09)\t label:diospyros_virginiana\t\n",
      "7500/8800(85.23)\t label:diospyros_virginiana\t\n",
      "7600/8800(86.36)\t label:diospyros_virginiana\t\n",
      "7700/8800(87.50)\t label:diospyros_virginiana\t\n",
      "7800/8800(88.64)\t label:diospyros_virginiana\t\n",
      "7900/8800(89.77)\t label:diospyros_virginiana\t\n",
      "8000/8800(90.91)\t label:diospyros_virginiana\t\n",
      "8100/8800(92.05)\t label:diospyros_virginiana\t\n",
      "8200/8800(93.18)\t label:diospyros_virginiana\t\n",
      "8300/8800(94.32)\t label:diospyros_virginiana\t\n",
      "8400/8800(95.45)\t label:diospyros_virginiana\t\n",
      "8500/8800(96.59)\t label:diospyros_virginiana\t\n",
      "8600/8800(97.73)\t label:diospyros_virginiana\t\n",
      "8700/8800(98.86)\t label:diospyros_virginiana\t\n"
     ]
    }
   ],
   "source": [
    "test_df['label'] = None\n",
    "for i in range(test_df.shape[0]):\n",
    "    #print(test_df.iloc[i,0])\n",
    "    label = predict(os.path.join(data_root_dir,test_df.iloc[i,0]), net)\n",
    "    label = maps_trans[label]\n",
    "    test_df.iloc[i,1] = label\n",
    "    if i%100==0:\n",
    "        print(f'{i}/{test_df.shape[0]}({100.0*i/test_df.shape[0]:.2f})\\t', f'label:{label}\\t')"
   ]
  },
  {
   "cell_type": "code",
   "execution_count": 10,
   "id": "0abf9572",
   "metadata": {
    "execution": {
     "iopub.execute_input": "2023-11-21T08:50:32.414063Z",
     "iopub.status.busy": "2023-11-21T08:50:32.413662Z",
     "iopub.status.idle": "2023-11-21T08:50:32.426677Z",
     "shell.execute_reply": "2023-11-21T08:50:32.425826Z"
    },
    "papermill": {
     "duration": 0.027169,
     "end_time": "2023-11-21T08:50:32.428750",
     "exception": false,
     "start_time": "2023-11-21T08:50:32.401581",
     "status": "completed"
    },
    "tags": []
   },
   "outputs": [
    {
     "data": {
      "text/plain": [
       "{0: 'maclura_pomifera',\n",
       " 1: 'ulmus_rubra',\n",
       " 2: 'broussonettia_papyrifera',\n",
       " 3: 'prunus_virginiana',\n",
       " 4: 'acer_rubrum',\n",
       " 5: 'cryptomeria_japonica',\n",
       " 6: 'staphylea_trifolia',\n",
       " 7: 'asimina_triloba',\n",
       " 8: 'diospyros_virginiana',\n",
       " 9: 'tilia_cordata',\n",
       " 10: 'ulmus_pumila',\n",
       " 11: 'quercus_muehlenbergii',\n",
       " 12: 'juglans_cinerea',\n",
       " 13: 'cercis_canadensis',\n",
       " 14: 'ptelea_trifoliata',\n",
       " 15: 'acer_palmatum',\n",
       " 16: 'catalpa_speciosa',\n",
       " 17: 'abies_concolor',\n",
       " 18: 'eucommia_ulmoides',\n",
       " 19: 'quercus_montana',\n",
       " 20: 'koelreuteria_paniculata',\n",
       " 21: 'liriodendron_tulipifera',\n",
       " 22: 'styrax_japonica',\n",
       " 23: 'malus_pumila',\n",
       " 24: 'prunus_sargentii',\n",
       " 25: 'cornus_mas',\n",
       " 26: 'magnolia_virginiana',\n",
       " 27: 'ostrya_virginiana',\n",
       " 28: 'magnolia_acuminata',\n",
       " 29: 'ilex_opaca',\n",
       " 30: 'acer_negundo',\n",
       " 31: 'fraxinus_nigra',\n",
       " 32: 'pyrus_calleryana',\n",
       " 33: 'picea_abies',\n",
       " 34: 'chionanthus_virginicus',\n",
       " 35: 'carpinus_caroliniana',\n",
       " 36: 'zelkova_serrata',\n",
       " 37: 'aesculus_pavi',\n",
       " 38: 'taxodium_distichum',\n",
       " 39: 'carya_tomentosa',\n",
       " 40: 'picea_pungens',\n",
       " 41: 'carya_glabra',\n",
       " 42: 'quercus_macrocarpa',\n",
       " 43: 'carya_cordiformis',\n",
       " 44: 'catalpa_bignonioides',\n",
       " 45: 'tsuga_canadensis',\n",
       " 46: 'populus_tremuloides',\n",
       " 47: 'magnolia_denudata',\n",
       " 48: 'crataegus_viridis',\n",
       " 49: 'populus_deltoides',\n",
       " 50: 'ulmus_americana',\n",
       " 51: 'pinus_bungeana',\n",
       " 52: 'cornus_florida',\n",
       " 53: 'pinus_densiflora',\n",
       " 54: 'morus_alba',\n",
       " 55: 'quercus_velutina',\n",
       " 56: 'pinus_parviflora',\n",
       " 57: 'salix_caroliniana',\n",
       " 58: 'platanus_occidentalis',\n",
       " 59: 'acer_saccharum',\n",
       " 60: 'pinus_flexilis',\n",
       " 61: 'gleditsia_triacanthos',\n",
       " 62: 'quercus_alba',\n",
       " 63: 'prunus_subhirtella',\n",
       " 64: 'pseudolarix_amabilis',\n",
       " 65: 'stewartia_pseudocamellia',\n",
       " 66: 'quercus_stellata',\n",
       " 67: 'pinus_rigida',\n",
       " 68: 'salix_nigra',\n",
       " 69: 'quercus_acutissima',\n",
       " 70: 'pinus_virginiana',\n",
       " 71: 'chamaecyparis_pisifera',\n",
       " 72: 'quercus_michauxii',\n",
       " 73: 'prunus_pensylvanica',\n",
       " 74: 'amelanchier_canadensis',\n",
       " 75: 'liquidambar_styraciflua',\n",
       " 76: 'pinus_cembra',\n",
       " 77: 'malus_hupehensis',\n",
       " 78: 'castanea_dentata',\n",
       " 79: 'magnolia_stellata',\n",
       " 80: 'chionanthus_retusus',\n",
       " 81: 'carya_ovata',\n",
       " 82: 'quercus_marilandica',\n",
       " 83: 'tilia_americana',\n",
       " 84: 'cedrus_atlantica',\n",
       " 85: 'ulmus_parvifolia',\n",
       " 86: 'nyssa_sylvatica',\n",
       " 87: 'quercus_virginiana',\n",
       " 88: 'acer_saccharinum',\n",
       " 89: 'magnolia_macrophylla',\n",
       " 90: 'crataegus_pruinosa',\n",
       " 91: 'pinus_nigra',\n",
       " 92: 'abies_nordmanniana',\n",
       " 93: 'pinus_taeda',\n",
       " 94: 'ficus_carica',\n",
       " 95: 'pinus_peucea',\n",
       " 96: 'populus_grandidentata',\n",
       " 97: 'acer_platanoides',\n",
       " 98: 'pinus_resinosa',\n",
       " 99: 'salix_matsudana',\n",
       " 100: 'pinus_sylvestris',\n",
       " 101: 'albizia_julibrissin',\n",
       " 102: 'salix_babylonica',\n",
       " 103: 'pinus_echinata',\n",
       " 104: 'magnolia_tripetala',\n",
       " 105: 'larix_decidua',\n",
       " 106: 'pinus_strobus',\n",
       " 107: 'aesculus_glabra',\n",
       " 108: 'ginkgo_biloba',\n",
       " 109: 'quercus_cerris',\n",
       " 110: 'metasequoia_glyptostroboides',\n",
       " 111: 'fagus_grandifolia',\n",
       " 112: 'quercus_nigra',\n",
       " 113: 'juglans_nigra',\n",
       " 114: 'pinus_koraiensis',\n",
       " 115: 'oxydendrum_arboreum',\n",
       " 116: 'morus_rubra',\n",
       " 117: 'crataegus_phaenopyrum',\n",
       " 118: 'pinus_wallichiana',\n",
       " 119: 'tilia_europaea',\n",
       " 120: 'betula_jacqemontii',\n",
       " 121: 'chamaecyparis_thyoides',\n",
       " 122: 'acer_ginnala',\n",
       " 123: 'acer_campestre',\n",
       " 124: 'pinus_pungens',\n",
       " 125: 'malus_floribunda',\n",
       " 126: 'picea_orientalis',\n",
       " 127: 'amelanchier_laevis',\n",
       " 128: 'celtis_tenuifolia',\n",
       " 129: 'gymnocladus_dioicus',\n",
       " 130: 'quercus_bicolor',\n",
       " 131: 'malus_coronaria',\n",
       " 132: 'cercidiphyllum_japonicum',\n",
       " 133: 'cedrus_libani',\n",
       " 134: 'betula_nigra',\n",
       " 135: 'acer_pensylvanicum',\n",
       " 136: 'platanus_acerifolia',\n",
       " 137: 'robinia_pseudo-acacia',\n",
       " 138: 'ulmus_glabra',\n",
       " 139: 'crataegus_laevigata',\n",
       " 140: 'quercus_coccinea',\n",
       " 141: 'prunus_serotina',\n",
       " 142: 'tilia_tomentosa',\n",
       " 143: 'quercus_imbricaria',\n",
       " 144: 'cladrastis_lutea',\n",
       " 145: 'fraxinus_pennsylvanica',\n",
       " 146: 'phellodendron_amurense',\n",
       " 147: 'betula_lenta',\n",
       " 148: 'quercus_robur',\n",
       " 149: 'aesculus_flava',\n",
       " 150: 'paulownia_tomentosa',\n",
       " 151: 'amelanchier_arborea',\n",
       " 152: 'quercus_shumardii',\n",
       " 153: 'magnolia_grandiflora',\n",
       " 154: 'cornus_kousa',\n",
       " 155: 'betula_alleghaniensis',\n",
       " 156: 'carpinus_betulus',\n",
       " 157: 'aesculus_hippocastamon',\n",
       " 158: 'malus_baccata',\n",
       " 159: 'acer_pseudoplatanus',\n",
       " 160: 'betula_populifolia',\n",
       " 161: 'prunus_yedoensis',\n",
       " 162: 'halesia_tetraptera',\n",
       " 163: 'quercus_palustris',\n",
       " 164: 'evodia_daniellii',\n",
       " 165: 'ulmus_procera',\n",
       " 166: 'prunus_serrulata',\n",
       " 167: 'quercus_phellos',\n",
       " 168: 'cedrus_deodara',\n",
       " 169: 'celtis_occidentalis',\n",
       " 170: 'sassafras_albidum',\n",
       " 171: 'acer_griseum',\n",
       " 172: 'ailanthus_altissima',\n",
       " 173: 'pinus_thunbergii',\n",
       " 174: 'crataegus_crus-galli',\n",
       " 175: 'juniperus_virginiana'}"
      ]
     },
     "execution_count": 10,
     "metadata": {},
     "output_type": "execute_result"
    }
   ],
   "source": [
    "maps_trans"
   ]
  },
  {
   "cell_type": "code",
   "execution_count": 11,
   "id": "6d29128c",
   "metadata": {
    "execution": {
     "iopub.execute_input": "2023-11-21T08:50:32.452407Z",
     "iopub.status.busy": "2023-11-21T08:50:32.452134Z",
     "iopub.status.idle": "2023-11-21T08:50:32.492297Z",
     "shell.execute_reply": "2023-11-21T08:50:32.491373Z"
    },
    "papermill": {
     "duration": 0.054141,
     "end_time": "2023-11-21T08:50:32.494137",
     "exception": false,
     "start_time": "2023-11-21T08:50:32.439996",
     "status": "completed"
    },
    "tags": []
   },
   "outputs": [
    {
     "data": {
      "text/plain": [
       "label\n",
       "diospyros_virginiana    8800\n",
       "Name: count, dtype: int64"
      ]
     },
     "execution_count": 11,
     "metadata": {},
     "output_type": "execute_result"
    }
   ],
   "source": [
    "test_df.to_csv('submission.csv', index=False)\n",
    "test_df['label'].value_counts()"
   ]
  }
 ],
 "metadata": {
  "kaggle": {
   "accelerator": "gpu",
   "dataSources": [
    {
     "databundleVersionId": 2318453,
     "sourceId": 29193,
     "sourceType": "competition"
    },
    {
     "datasetId": 4033494,
     "sourceId": 7015340,
     "sourceType": "datasetVersion"
    }
   ],
   "dockerImageVersionId": 30589,
   "isGpuEnabled": true,
   "isInternetEnabled": true,
   "language": "python",
   "sourceType": "notebook"
  },
  "kernelspec": {
   "display_name": "Python 3",
   "language": "python",
   "name": "python3"
  },
  "language_info": {
   "codemirror_mode": {
    "name": "ipython",
    "version": 3
   },
   "file_extension": ".py",
   "mimetype": "text/x-python",
   "name": "python",
   "nbconvert_exporter": "python",
   "pygments_lexer": "ipython3",
   "version": "3.10.12"
  },
  "papermill": {
   "default_parameters": {},
   "duration": 230.313048,
   "end_time": "2023-11-21T08:50:34.228481",
   "environment_variables": {},
   "exception": null,
   "input_path": "__notebook__.ipynb",
   "output_path": "__notebook__.ipynb",
   "parameters": {},
   "start_time": "2023-11-21T08:46:43.915433",
   "version": "2.4.0"
  }
 },
 "nbformat": 4,
 "nbformat_minor": 5
}
